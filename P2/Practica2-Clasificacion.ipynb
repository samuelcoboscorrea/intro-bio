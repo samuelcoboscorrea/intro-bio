{
 "cells": [
  {
   "cell_type": "code",
   "execution_count": 1,
   "id": "708be419",
   "metadata": {},
   "outputs": [],
   "source": [
    "import pandas as pd\n",
    "import numpy as np\n",
    "from sklearn.preprocessing import OneHotEncoder"
   ]
  },
  {
   "cell_type": "code",
   "execution_count": 5,
   "id": "15d9d3b2",
   "metadata": {},
   "outputs": [],
   "source": [
    "data_df = pd.read_csv('/Users/universidad/Desktop/Universidad/CURSO-2023-2024/BIO/PRACTICAS/P2/datasets/sourth_africa_chd.csv')"
   ]
  },
  {
   "cell_type": "code",
   "execution_count": 7,
   "id": "cca0014d",
   "metadata": {},
   "outputs": [
    {
     "data": {
      "text/plain": [
       "(462, 10)"
      ]
     },
     "execution_count": 7,
     "metadata": {},
     "output_type": "execute_result"
    }
   ],
   "source": [
    "data_df.shape"
   ]
  },
  {
   "cell_type": "code",
   "execution_count": 8,
   "id": "e15faed9",
   "metadata": {},
   "outputs": [
    {
     "data": {
      "text/html": [
       "<div>\n",
       "<style scoped>\n",
       "    .dataframe tbody tr th:only-of-type {\n",
       "        vertical-align: middle;\n",
       "    }\n",
       "\n",
       "    .dataframe tbody tr th {\n",
       "        vertical-align: top;\n",
       "    }\n",
       "\n",
       "    .dataframe thead th {\n",
       "        text-align: right;\n",
       "    }\n",
       "</style>\n",
       "<table border=\"1\" class=\"dataframe\">\n",
       "  <thead>\n",
       "    <tr style=\"text-align: right;\">\n",
       "      <th></th>\n",
       "      <th>sbp</th>\n",
       "      <th>tobacco</th>\n",
       "      <th>ldl</th>\n",
       "      <th>adiposity</th>\n",
       "      <th>famhist</th>\n",
       "      <th>typea</th>\n",
       "      <th>obesity</th>\n",
       "      <th>alcohol</th>\n",
       "      <th>age</th>\n",
       "      <th>chd</th>\n",
       "    </tr>\n",
       "  </thead>\n",
       "  <tbody>\n",
       "    <tr>\n",
       "      <th>0</th>\n",
       "      <td>160</td>\n",
       "      <td>12.00</td>\n",
       "      <td>5.73</td>\n",
       "      <td>23.11</td>\n",
       "      <td>Present</td>\n",
       "      <td>49</td>\n",
       "      <td>25.30</td>\n",
       "      <td>97.20</td>\n",
       "      <td>52</td>\n",
       "      <td>Si</td>\n",
       "    </tr>\n",
       "    <tr>\n",
       "      <th>1</th>\n",
       "      <td>144</td>\n",
       "      <td>0.01</td>\n",
       "      <td>4.41</td>\n",
       "      <td>28.61</td>\n",
       "      <td>Absent</td>\n",
       "      <td>55</td>\n",
       "      <td>28.87</td>\n",
       "      <td>2.06</td>\n",
       "      <td>63</td>\n",
       "      <td>Si</td>\n",
       "    </tr>\n",
       "    <tr>\n",
       "      <th>2</th>\n",
       "      <td>118</td>\n",
       "      <td>0.08</td>\n",
       "      <td>3.48</td>\n",
       "      <td>32.28</td>\n",
       "      <td>Present</td>\n",
       "      <td>52</td>\n",
       "      <td>29.14</td>\n",
       "      <td>3.81</td>\n",
       "      <td>46</td>\n",
       "      <td>No</td>\n",
       "    </tr>\n",
       "    <tr>\n",
       "      <th>3</th>\n",
       "      <td>170</td>\n",
       "      <td>7.50</td>\n",
       "      <td>6.41</td>\n",
       "      <td>38.03</td>\n",
       "      <td>Present</td>\n",
       "      <td>51</td>\n",
       "      <td>31.99</td>\n",
       "      <td>24.26</td>\n",
       "      <td>58</td>\n",
       "      <td>Si</td>\n",
       "    </tr>\n",
       "    <tr>\n",
       "      <th>4</th>\n",
       "      <td>134</td>\n",
       "      <td>13.60</td>\n",
       "      <td>3.50</td>\n",
       "      <td>27.78</td>\n",
       "      <td>Present</td>\n",
       "      <td>60</td>\n",
       "      <td>25.99</td>\n",
       "      <td>57.34</td>\n",
       "      <td>49</td>\n",
       "      <td>Si</td>\n",
       "    </tr>\n",
       "  </tbody>\n",
       "</table>\n",
       "</div>"
      ],
      "text/plain": [
       "   sbp  tobacco   ldl  adiposity  famhist  typea  obesity  alcohol  age chd\n",
       "0  160    12.00  5.73      23.11  Present     49    25.30    97.20   52  Si\n",
       "1  144     0.01  4.41      28.61   Absent     55    28.87     2.06   63  Si\n",
       "2  118     0.08  3.48      32.28  Present     52    29.14     3.81   46  No\n",
       "3  170     7.50  6.41      38.03  Present     51    31.99    24.26   58  Si\n",
       "4  134    13.60  3.50      27.78  Present     60    25.99    57.34   49  Si"
      ]
     },
     "execution_count": 8,
     "metadata": {},
     "output_type": "execute_result"
    }
   ],
   "source": [
    "data_df.head()"
   ]
  },
  {
   "cell_type": "code",
   "execution_count": 9,
   "id": "1b14cba9",
   "metadata": {},
   "outputs": [],
   "source": [
    "ohe_famhist = OneHotEncoder(drop='if_binary').fit_transform(data_df[['famhist']])\n",
    "data_df['famhist'] = ohe_famhist.toarray()"
   ]
  },
  {
   "cell_type": "code",
   "execution_count": 10,
   "id": "42662a9a",
   "metadata": {},
   "outputs": [],
   "source": [
    "ohe_chd = OneHotEncoder(drop='if_binary').fit_transform(data_df[['chd']])\n",
    "data_df['chd'] = ohe_chd.toarray()"
   ]
  },
  {
   "cell_type": "code",
   "execution_count": 11,
   "id": "957578cc",
   "metadata": {},
   "outputs": [
    {
     "data": {
      "text/html": [
       "<div>\n",
       "<style scoped>\n",
       "    .dataframe tbody tr th:only-of-type {\n",
       "        vertical-align: middle;\n",
       "    }\n",
       "\n",
       "    .dataframe tbody tr th {\n",
       "        vertical-align: top;\n",
       "    }\n",
       "\n",
       "    .dataframe thead th {\n",
       "        text-align: right;\n",
       "    }\n",
       "</style>\n",
       "<table border=\"1\" class=\"dataframe\">\n",
       "  <thead>\n",
       "    <tr style=\"text-align: right;\">\n",
       "      <th></th>\n",
       "      <th>sbp</th>\n",
       "      <th>tobacco</th>\n",
       "      <th>ldl</th>\n",
       "      <th>adiposity</th>\n",
       "      <th>famhist</th>\n",
       "      <th>typea</th>\n",
       "      <th>obesity</th>\n",
       "      <th>alcohol</th>\n",
       "      <th>age</th>\n",
       "      <th>chd</th>\n",
       "    </tr>\n",
       "  </thead>\n",
       "  <tbody>\n",
       "    <tr>\n",
       "      <th>0</th>\n",
       "      <td>160</td>\n",
       "      <td>12.00</td>\n",
       "      <td>5.73</td>\n",
       "      <td>23.11</td>\n",
       "      <td>1.0</td>\n",
       "      <td>49</td>\n",
       "      <td>25.30</td>\n",
       "      <td>97.20</td>\n",
       "      <td>52</td>\n",
       "      <td>1.0</td>\n",
       "    </tr>\n",
       "    <tr>\n",
       "      <th>1</th>\n",
       "      <td>144</td>\n",
       "      <td>0.01</td>\n",
       "      <td>4.41</td>\n",
       "      <td>28.61</td>\n",
       "      <td>0.0</td>\n",
       "      <td>55</td>\n",
       "      <td>28.87</td>\n",
       "      <td>2.06</td>\n",
       "      <td>63</td>\n",
       "      <td>1.0</td>\n",
       "    </tr>\n",
       "    <tr>\n",
       "      <th>2</th>\n",
       "      <td>118</td>\n",
       "      <td>0.08</td>\n",
       "      <td>3.48</td>\n",
       "      <td>32.28</td>\n",
       "      <td>1.0</td>\n",
       "      <td>52</td>\n",
       "      <td>29.14</td>\n",
       "      <td>3.81</td>\n",
       "      <td>46</td>\n",
       "      <td>0.0</td>\n",
       "    </tr>\n",
       "    <tr>\n",
       "      <th>3</th>\n",
       "      <td>170</td>\n",
       "      <td>7.50</td>\n",
       "      <td>6.41</td>\n",
       "      <td>38.03</td>\n",
       "      <td>1.0</td>\n",
       "      <td>51</td>\n",
       "      <td>31.99</td>\n",
       "      <td>24.26</td>\n",
       "      <td>58</td>\n",
       "      <td>1.0</td>\n",
       "    </tr>\n",
       "    <tr>\n",
       "      <th>4</th>\n",
       "      <td>134</td>\n",
       "      <td>13.60</td>\n",
       "      <td>3.50</td>\n",
       "      <td>27.78</td>\n",
       "      <td>1.0</td>\n",
       "      <td>60</td>\n",
       "      <td>25.99</td>\n",
       "      <td>57.34</td>\n",
       "      <td>49</td>\n",
       "      <td>1.0</td>\n",
       "    </tr>\n",
       "  </tbody>\n",
       "</table>\n",
       "</div>"
      ],
      "text/plain": [
       "   sbp  tobacco   ldl  adiposity  famhist  typea  obesity  alcohol  age  chd\n",
       "0  160    12.00  5.73      23.11      1.0     49    25.30    97.20   52  1.0\n",
       "1  144     0.01  4.41      28.61      0.0     55    28.87     2.06   63  1.0\n",
       "2  118     0.08  3.48      32.28      1.0     52    29.14     3.81   46  0.0\n",
       "3  170     7.50  6.41      38.03      1.0     51    31.99    24.26   58  1.0\n",
       "4  134    13.60  3.50      27.78      1.0     60    25.99    57.34   49  1.0"
      ]
     },
     "execution_count": 11,
     "metadata": {},
     "output_type": "execute_result"
    }
   ],
   "source": [
    "data_df.head()"
   ]
  },
  {
   "cell_type": "code",
   "execution_count": 12,
   "id": "2866cecb",
   "metadata": {},
   "outputs": [],
   "source": [
    "data = data_df.to_numpy()"
   ]
  },
  {
   "cell_type": "code",
   "execution_count": 13,
   "id": "3e4a2dd0",
   "metadata": {},
   "outputs": [
    {
     "data": {
      "text/plain": [
       "(462, 10)"
      ]
     },
     "execution_count": 13,
     "metadata": {},
     "output_type": "execute_result"
    }
   ],
   "source": [
    "data.shape"
   ]
  },
  {
   "cell_type": "code",
   "execution_count": 19,
   "id": "b5e88ee2",
   "metadata": {},
   "outputs": [
    {
     "name": "stdout",
     "output_type": "stream",
     "text": [
      "323 323 139 139\n"
     ]
    }
   ],
   "source": [
    "# training stage\n",
    "from sklearn.preprocessing import StandardScaler\n",
    "from sklearn.model_selection import train_test_split\n",
    "\n",
    "# Suponiendo que las características están en las primeras columnas y la etiqueta está en la última columna\n",
    "X = data[:, :-1]  # todas las filas, todas las columnas excepto la última\n",
    "y = data[:, -1]   # todas las filas, solo la última columna\n",
    "\n",
    "X_train, X_test, y_train, y_test = train_test_split(X, y, test_size=0.3, random_state=42)  # ajusta test_size según necesites\n",
    "\n",
    "print(len(X_train), len(y_train), len(X_test), len(y_test))\n",
    "\n",
    "# Check the splits are correct"
   ]
  },
  {
   "cell_type": "code",
   "execution_count": 20,
   "id": "9d4d5cde",
   "metadata": {},
   "outputs": [
    {
     "name": "stdout",
     "output_type": "stream",
     "text": [
      "(150, 4)\n"
     ]
    }
   ],
   "source": [
    "# test first touch scikit\n",
    "\n",
    "# Import scikit learn\n",
    "from sklearn import datasets\n",
    "# Load data\n",
    "iris= datasets.load_iris()\n",
    "# Print shape of data to confirm data is loaded\n",
    "print(iris.data.shape)"
   ]
  },
  {
   "cell_type": "code",
   "execution_count": 23,
   "id": "172bafad",
   "metadata": {},
   "outputs": [
    {
     "name": "stdout",
     "output_type": "stream",
     "text": [
      "[0.5 0.5]\n"
     ]
    }
   ],
   "source": [
    "#import the model\n",
    "from sklearn import linear_model\n",
    "reg = linear_model.LinearRegression()\n",
    "# use it to fit a data\n",
    "reg.fit ([[0, 0], [1, 1], [2, 2]], [0, 1, 2])\n",
    "# Let's look into the fitted data\n",
    "print(reg.coef_)"
   ]
  },
  {
   "cell_type": "code",
   "execution_count": 31,
   "id": "bfbfb7fc",
   "metadata": {},
   "outputs": [
    {
     "name": "stdout",
     "output_type": "stream",
     "text": [
      "Index(['Age', 'Years', 'Weight', 'Height', 'Chin', 'Forearm', 'Calf', 'Pulse',\n",
      "       'Systol', 'Diastol'],\n",
      "      dtype='object')\n",
      "Métricas de Regresión de Systol:\n",
      "LR - MSE: 114.39395263800309 R2: -0.23041000745984785\n",
      "RF - MSE: 103.42989166666665 R2: -0.11248165521362385\n",
      "\n",
      "Métricas de Regresión de Diastol:\n",
      "LR - MSE: 93.51516076611165 R2: -0.3444671675639055\n",
      "RF - MSE: 89.45968333333336 R2: -0.286161581469649\n",
      "\n",
      "Métricas de Clasificación de CHD:\n",
      "SVM - Accuracy: 0.6474820143884892 Precision: 0.5 Recall: 0.061224489795918366 F1-score: 0.10909090909090909\n",
      "RFC - Accuracy: 0.6690647482014388 Precision: 0.5405405405405406 Recall: 0.40816326530612246 F1-score: 0.46511627906976744\n",
      "\n",
      "Matriz de Confusión SVM:\n",
      "[[87  3]\n",
      " [46  3]]\n",
      "\n",
      "Matriz de Confusión RFC:\n",
      "[[73 17]\n",
      " [29 20]]\n"
     ]
    }
   ],
   "source": [
    "import pandas as pd\n",
    "from sklearn.model_selection import train_test_split\n",
    "from sklearn.linear_model import LinearRegression\n",
    "from sklearn.ensemble import RandomForestRegressor\n",
    "from sklearn.svm import SVC\n",
    "from sklearn.ensemble import RandomForestClassifier\n",
    "from sklearn.metrics import mean_squared_error, r2_score, accuracy_score, precision_score, recall_score, f1_score, confusion_matrix\n",
    "\n",
    "# Cargar los datos\n",
    "peruvian_blood_pressures = pd.read_csv('/Users/universidad/Desktop/Universidad/CURSO-2023-2024/BIO/PRACTICAS/P2/datasets/peruvian_blood_pressures.csv')\n",
    "south_africa_chd = pd.read_csv('/Users/universidad/Desktop/Universidad/CURSO-2023-2024/BIO/PRACTICAS/P2/datasets/sourth_africa_chd.csv')\n",
    "\n",
    "ohe_famhist = OneHotEncoder(drop='if_binary').fit_transform(south_africa_chd[['famhist']])\n",
    "south_africa_chd['famhist'] = ohe_famhist.toarray()\n",
    "\n",
    "ohe_chd = OneHotEncoder(drop='if_binary').fit_transform(south_africa_chd[['chd']])\n",
    "south_africa_chd['chd'] = ohe_chd.toarray()\n",
    "\n",
    "# Para el dataset de presión arterial\n",
    "print(peruvian_blood_pressures.columns)\n",
    "X_bp = peruvian_blood_pressures.drop(['Systol', 'Diastol'], axis=1)\n",
    "y_systol = peruvian_blood_pressures['Systol']\n",
    "y_diastol = peruvian_blood_pressures['Diastol']\n",
    "\n",
    "# Para el dataset de enfermedad cardíaca\n",
    "X_chd = south_africa_chd.drop(['chd'], axis=1)\n",
    "y_chd = south_africa_chd['chd']\n",
    "\n",
    "# Dividir los datos en conjunto de entrenamiento y prueba\n",
    "X_bp_train, X_bp_test, y_systol_train, y_systol_test, y_diastol_train, y_diastol_test = train_test_split(X_bp, y_systol, y_diastol, test_size=0.3, random_state=42)\n",
    "X_chd_train, X_chd_test, y_chd_train, y_chd_test = train_test_split(X_chd, y_chd, test_size=0.3, random_state=42)\n",
    "\n",
    "# Modelos de regresión\n",
    "lr_model_systol = LinearRegression()\n",
    "rf_model_systol = RandomForestRegressor()\n",
    "lr_model_diastol = LinearRegression()\n",
    "rf_model_diastol = RandomForestRegressor()\n",
    "\n",
    "# Modelos de clasificación\n",
    "svm_model_chd = SVC()\n",
    "rfc_model_chd = RandomForestClassifier()\n",
    "\n",
    "# Entrenar modelos de regresión\n",
    "lr_model_systol.fit(X_bp_train, y_systol_train)\n",
    "rf_model_systol.fit(X_bp_train, y_systol_train)\n",
    "lr_model_diastol.fit(X_bp_train, y_diastol_train)\n",
    "rf_model_diastol.fit(X_bp_train, y_diastol_train)\n",
    "\n",
    "# Entrenar modelos de clasificación\n",
    "svm_model_chd.fit(X_chd_train, y_chd_train)\n",
    "rfc_model_chd.fit(X_chd_train, y_chd_train)\n",
    "\n",
    "# Predecir valores\n",
    "systol_pred_lr = lr_model_systol.predict(X_bp_test)\n",
    "systol_pred_rf = rf_model_systol.predict(X_bp_test)\n",
    "diastol_pred_lr = lr_model_diastol.predict(X_bp_test)\n",
    "diastol_pred_rf = rf_model_diastol.predict(X_bp_test)\n",
    "chd_pred_svm = svm_model_chd.predict(X_chd_test)\n",
    "chd_pred_rfc = rfc_model_chd.predict(X_chd_test)\n",
    "\n",
    "# Evaluar modelos de regresión\n",
    "mse_lr_systol = mean_squared_error(y_systol_test, systol_pred_lr)\n",
    "mse_rf_systol = mean_squared_error(y_systol_test, systol_pred_rf)\n",
    "mse_lr_diastol = mean_squared_error(y_diastol_test, diastol_pred_lr)\n",
    "mse_rf_diastol = mean_squared_error(y_diastol_test, diastol_pred_rf)\n",
    "r2_lr_systol = r2_score(y_systol_test, systol_pred_lr)\n",
    "r2_rf_systol = r2_score(y_systol_test, systol_pred_rf)\n",
    "r2_lr_diastol = r2_score(y_diastol_test, diastol_pred_lr)\n",
    "r2_rf_diastol = r2_score(y_diastol_test, diastol_pred_rf)\n",
    "\n",
    "# Evaluar modelos de clasificación\n",
    "accuracy_svm_chd = accuracy_score(y_chd_test, chd_pred_svm)\n",
    "accuracy_rfc_chd = accuracy_score(y_chd_test, chd_pred_rfc)\n",
    "precision_svm_chd = precision_score(y_chd_test, chd_pred_svm)\n",
    "precision_rfc_chd = precision_score(y_chd_test, chd_pred_rfc)\n",
    "recall_svm_chd = recall_score(y_chd_test, chd_pred_svm)\n",
    "recall_rfc_chd = recall_score(y_chd_test, chd_pred_rfc)\n",
    "f1_svm_chd = f1_score(y_chd_test, chd_pred_svm)\n",
    "f1_rfc_chd = f1_score(y_chd_test, chd_pred_rfc)\n",
    "confusion_matrix_svm_chd = confusion_matrix(y_chd_test, chd_pred_svm)\n",
    "confusion_matrix_rfc_chd = confusion_matrix(y_chd_test, chd_pred_rfc)\n",
    "\n",
    "# Imprimir resultados\n",
    "print(\"Métricas de Regresión de Systol:\")\n",
    "print(\"LR - MSE:\", mse_lr_systol, \"R2:\", r2_lr_systol)\n",
    "print(\"RF - MSE:\", mse_rf_systol, \"R2:\", r2_rf_systol)\n",
    "\n",
    "print(\"\\nMétricas de Regresión de Diastol:\")\n",
    "print(\"LR - MSE:\", mse_lr_diastol, \"R2:\", r2_lr_diastol)\n",
    "print(\"RF - MSE:\", mse_rf_diastol, \"R2:\", r2_rf_diastol)\n",
    "\n",
    "print(\"\\nMétricas de Clasificación de CHD:\")\n",
    "print(\"SVM - Accuracy:\", accuracy_svm_chd, \"Precision:\", precision_svm_chd, \"Recall:\", recall_svm_chd, \"F1-score:\", f1_svm_chd)\n",
    "print(\"RFC - Accuracy:\", accuracy_rfc_chd, \"Precision:\", precision_rfc_chd, \"Recall:\", recall_rfc_chd, \"F1-score:\", f1_rfc_chd)\n",
    "print(\"\\nMatriz de Confusión SVM:\")\n",
    "print(confusion_matrix_svm_chd)\n",
    "print(\"\\nMatriz de Confusión RFC:\")\n",
    "print(confusion_matrix_rfc_chd)"
   ]
  }
 ],
 "metadata": {
  "kernelspec": {
   "display_name": "Python 3 (ipykernel)",
   "language": "python",
   "name": "python3"
  },
  "language_info": {
   "codemirror_mode": {
    "name": "ipython",
    "version": 3
   },
   "file_extension": ".py",
   "mimetype": "text/x-python",
   "name": "python",
   "nbconvert_exporter": "python",
   "pygments_lexer": "ipython3",
   "version": "3.10.10"
  }
 },
 "nbformat": 4,
 "nbformat_minor": 5
}
