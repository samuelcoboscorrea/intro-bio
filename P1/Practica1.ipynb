{
 "cells": [
  {
   "attachments": {},
   "cell_type": "markdown",
   "id": "19e8783d",
   "metadata": {},
   "source": [
    "# Práctica 1"
   ]
  },
  {
   "cell_type": "code",
   "execution_count": 5,
   "id": "53e78531",
   "metadata": {},
   "outputs": [],
   "source": [
    "# Librerías\n",
    "# Nota: puedes importar cualquier otra librería que necesites usar\n",
    "\n",
    "import numpy as np\n",
    "from scipy import stats\n",
    "from plotly.subplots import make_subplots\n",
    "import statistics\n",
    "import pandas as pd\n",
    "import matplotlib.pyplot as plt\n",
    "import seaborn as sns\n",
    "import plotly.express as px"
   ]
  },
  {
   "cell_type": "code",
   "execution_count": 6,
   "id": "a2831a8b",
   "metadata": {},
   "outputs": [],
   "source": [
    "# Leer dataset\n",
    "\n",
    "data = pd.read_csv('/Users/universidad/Desktop/Universidad/CURSO-2023-2024/BIO/PRACTICAS/P1/datasets/sourth_africa_chd.csv')"
   ]
  },
  {
   "cell_type": "code",
   "execution_count": 7,
   "id": "aa56ab34",
   "metadata": {
    "scrolled": true
   },
   "outputs": [
    {
     "data": {
      "text/html": [
       "<div>\n",
       "<style scoped>\n",
       "    .dataframe tbody tr th:only-of-type {\n",
       "        vertical-align: middle;\n",
       "    }\n",
       "\n",
       "    .dataframe tbody tr th {\n",
       "        vertical-align: top;\n",
       "    }\n",
       "\n",
       "    .dataframe thead th {\n",
       "        text-align: right;\n",
       "    }\n",
       "</style>\n",
       "<table border=\"1\" class=\"dataframe\">\n",
       "  <thead>\n",
       "    <tr style=\"text-align: right;\">\n",
       "      <th></th>\n",
       "      <th>sbp</th>\n",
       "      <th>tobacco</th>\n",
       "      <th>ldl</th>\n",
       "      <th>adiposity</th>\n",
       "      <th>famhist</th>\n",
       "      <th>typea</th>\n",
       "      <th>obesity</th>\n",
       "      <th>alcohol</th>\n",
       "      <th>age</th>\n",
       "      <th>chd</th>\n",
       "    </tr>\n",
       "  </thead>\n",
       "  <tbody>\n",
       "    <tr>\n",
       "      <th>0</th>\n",
       "      <td>160</td>\n",
       "      <td>12.00</td>\n",
       "      <td>5.73</td>\n",
       "      <td>23.11</td>\n",
       "      <td>Present</td>\n",
       "      <td>49</td>\n",
       "      <td>25.30</td>\n",
       "      <td>97.20</td>\n",
       "      <td>52</td>\n",
       "      <td>Si</td>\n",
       "    </tr>\n",
       "    <tr>\n",
       "      <th>1</th>\n",
       "      <td>144</td>\n",
       "      <td>0.01</td>\n",
       "      <td>4.41</td>\n",
       "      <td>28.61</td>\n",
       "      <td>Absent</td>\n",
       "      <td>55</td>\n",
       "      <td>28.87</td>\n",
       "      <td>2.06</td>\n",
       "      <td>63</td>\n",
       "      <td>Si</td>\n",
       "    </tr>\n",
       "    <tr>\n",
       "      <th>2</th>\n",
       "      <td>118</td>\n",
       "      <td>0.08</td>\n",
       "      <td>3.48</td>\n",
       "      <td>32.28</td>\n",
       "      <td>Present</td>\n",
       "      <td>52</td>\n",
       "      <td>29.14</td>\n",
       "      <td>3.81</td>\n",
       "      <td>46</td>\n",
       "      <td>No</td>\n",
       "    </tr>\n",
       "    <tr>\n",
       "      <th>3</th>\n",
       "      <td>170</td>\n",
       "      <td>7.50</td>\n",
       "      <td>6.41</td>\n",
       "      <td>38.03</td>\n",
       "      <td>Present</td>\n",
       "      <td>51</td>\n",
       "      <td>31.99</td>\n",
       "      <td>24.26</td>\n",
       "      <td>58</td>\n",
       "      <td>Si</td>\n",
       "    </tr>\n",
       "    <tr>\n",
       "      <th>4</th>\n",
       "      <td>134</td>\n",
       "      <td>13.60</td>\n",
       "      <td>3.50</td>\n",
       "      <td>27.78</td>\n",
       "      <td>Present</td>\n",
       "      <td>60</td>\n",
       "      <td>25.99</td>\n",
       "      <td>57.34</td>\n",
       "      <td>49</td>\n",
       "      <td>Si</td>\n",
       "    </tr>\n",
       "  </tbody>\n",
       "</table>\n",
       "</div>"
      ],
      "text/plain": [
       "   sbp  tobacco   ldl  adiposity  famhist  typea  obesity  alcohol  age chd\n",
       "0  160    12.00  5.73      23.11  Present     49    25.30    97.20   52  Si\n",
       "1  144     0.01  4.41      28.61   Absent     55    28.87     2.06   63  Si\n",
       "2  118     0.08  3.48      32.28  Present     52    29.14     3.81   46  No\n",
       "3  170     7.50  6.41      38.03  Present     51    31.99    24.26   58  Si\n",
       "4  134    13.60  3.50      27.78  Present     60    25.99    57.34   49  Si"
      ]
     },
     "execution_count": 7,
     "metadata": {},
     "output_type": "execute_result"
    }
   ],
   "source": [
    "# Visualizar los primeros elementos del dataset\n",
    "\n",
    "data.head()"
   ]
  },
  {
   "cell_type": "code",
   "execution_count": 8,
   "id": "f0a4fe52",
   "metadata": {},
   "outputs": [
    {
     "data": {
      "text/plain": [
       "(462, 10)"
      ]
     },
     "execution_count": 8,
     "metadata": {},
     "output_type": "execute_result"
    }
   ],
   "source": [
    "# Forma del dataset\n",
    "\n",
    "data.shape"
   ]
  },
  {
   "cell_type": "code",
   "execution_count": 9,
   "id": "5ca4f5fa",
   "metadata": {},
   "outputs": [
    {
     "data": {
      "text/html": [
       "<div>\n",
       "<style scoped>\n",
       "    .dataframe tbody tr th:only-of-type {\n",
       "        vertical-align: middle;\n",
       "    }\n",
       "\n",
       "    .dataframe tbody tr th {\n",
       "        vertical-align: top;\n",
       "    }\n",
       "\n",
       "    .dataframe thead th {\n",
       "        text-align: right;\n",
       "    }\n",
       "</style>\n",
       "<table border=\"1\" class=\"dataframe\">\n",
       "  <thead>\n",
       "    <tr style=\"text-align: right;\">\n",
       "      <th></th>\n",
       "      <th>sbp</th>\n",
       "      <th>tobacco</th>\n",
       "      <th>ldl</th>\n",
       "      <th>adiposity</th>\n",
       "      <th>famhist</th>\n",
       "      <th>typea</th>\n",
       "      <th>obesity</th>\n",
       "      <th>alcohol</th>\n",
       "      <th>age</th>\n",
       "      <th>chd</th>\n",
       "    </tr>\n",
       "  </thead>\n",
       "  <tbody>\n",
       "    <tr>\n",
       "      <th>100</th>\n",
       "      <td>136</td>\n",
       "      <td>8.00</td>\n",
       "      <td>7.85</td>\n",
       "      <td>23.81</td>\n",
       "      <td>Present</td>\n",
       "      <td>51</td>\n",
       "      <td>22.69</td>\n",
       "      <td>2.78</td>\n",
       "      <td>50</td>\n",
       "      <td>No</td>\n",
       "    </tr>\n",
       "    <tr>\n",
       "      <th>101</th>\n",
       "      <td>166</td>\n",
       "      <td>0.07</td>\n",
       "      <td>4.03</td>\n",
       "      <td>29.29</td>\n",
       "      <td>Absent</td>\n",
       "      <td>53</td>\n",
       "      <td>28.37</td>\n",
       "      <td>0.00</td>\n",
       "      <td>27</td>\n",
       "      <td>No</td>\n",
       "    </tr>\n",
       "    <tr>\n",
       "      <th>102</th>\n",
       "      <td>118</td>\n",
       "      <td>0.00</td>\n",
       "      <td>4.34</td>\n",
       "      <td>30.12</td>\n",
       "      <td>Present</td>\n",
       "      <td>52</td>\n",
       "      <td>32.18</td>\n",
       "      <td>3.91</td>\n",
       "      <td>46</td>\n",
       "      <td>No</td>\n",
       "    </tr>\n",
       "    <tr>\n",
       "      <th>103</th>\n",
       "      <td>128</td>\n",
       "      <td>0.42</td>\n",
       "      <td>4.60</td>\n",
       "      <td>26.68</td>\n",
       "      <td>Absent</td>\n",
       "      <td>41</td>\n",
       "      <td>30.97</td>\n",
       "      <td>10.33</td>\n",
       "      <td>31</td>\n",
       "      <td>No</td>\n",
       "    </tr>\n",
       "    <tr>\n",
       "      <th>104</th>\n",
       "      <td>118</td>\n",
       "      <td>1.50</td>\n",
       "      <td>5.38</td>\n",
       "      <td>25.84</td>\n",
       "      <td>Absent</td>\n",
       "      <td>64</td>\n",
       "      <td>28.63</td>\n",
       "      <td>3.89</td>\n",
       "      <td>29</td>\n",
       "      <td>No</td>\n",
       "    </tr>\n",
       "    <tr>\n",
       "      <th>105</th>\n",
       "      <td>158</td>\n",
       "      <td>3.60</td>\n",
       "      <td>2.97</td>\n",
       "      <td>30.11</td>\n",
       "      <td>Absent</td>\n",
       "      <td>63</td>\n",
       "      <td>26.64</td>\n",
       "      <td>108.00</td>\n",
       "      <td>64</td>\n",
       "      <td>No</td>\n",
       "    </tr>\n",
       "  </tbody>\n",
       "</table>\n",
       "</div>"
      ],
      "text/plain": [
       "     sbp  tobacco   ldl  adiposity  famhist  typea  obesity  alcohol  age chd\n",
       "100  136     8.00  7.85      23.81  Present     51    22.69     2.78   50  No\n",
       "101  166     0.07  4.03      29.29   Absent     53    28.37     0.00   27  No\n",
       "102  118     0.00  4.34      30.12  Present     52    32.18     3.91   46  No\n",
       "103  128     0.42  4.60      26.68   Absent     41    30.97    10.33   31  No\n",
       "104  118     1.50  5.38      25.84   Absent     64    28.63     3.89   29  No\n",
       "105  158     3.60  2.97      30.11   Absent     63    26.64   108.00   64  No"
      ]
     },
     "execution_count": 9,
     "metadata": {},
     "output_type": "execute_result"
    }
   ],
   "source": [
    "# Visualizar un cojunto de elementos del dataset cualquiera\n",
    "\n",
    "data.iloc[100:106,:]"
   ]
  },
  {
   "cell_type": "code",
   "execution_count": 10,
   "id": "6bc78559",
   "metadata": {},
   "outputs": [],
   "source": [
    "# Selección de variables numéricas y categóricas\n",
    "\n",
    "list_var_num = ['sbp','tobacco','ldl','adiposity','typea','obesity','alcohol','age']\n",
    "list_var_cat = ['famhist','chd']\n",
    "\n",
    "var_num = data[list_var_num]\n",
    "var_cat = data[list_var_cat]"
   ]
  },
  {
   "cell_type": "code",
   "execution_count": 11,
   "id": "4a610a92",
   "metadata": {},
   "outputs": [
    {
     "data": {
      "text/html": [
       "<div>\n",
       "<style scoped>\n",
       "    .dataframe tbody tr th:only-of-type {\n",
       "        vertical-align: middle;\n",
       "    }\n",
       "\n",
       "    .dataframe tbody tr th {\n",
       "        vertical-align: top;\n",
       "    }\n",
       "\n",
       "    .dataframe thead th {\n",
       "        text-align: right;\n",
       "    }\n",
       "</style>\n",
       "<table border=\"1\" class=\"dataframe\">\n",
       "  <thead>\n",
       "    <tr style=\"text-align: right;\">\n",
       "      <th></th>\n",
       "      <th>sbp</th>\n",
       "      <th>tobacco</th>\n",
       "      <th>ldl</th>\n",
       "      <th>adiposity</th>\n",
       "      <th>typea</th>\n",
       "      <th>obesity</th>\n",
       "      <th>alcohol</th>\n",
       "      <th>age</th>\n",
       "    </tr>\n",
       "  </thead>\n",
       "  <tbody>\n",
       "    <tr>\n",
       "      <th>0</th>\n",
       "      <td>160</td>\n",
       "      <td>12.00</td>\n",
       "      <td>5.73</td>\n",
       "      <td>23.11</td>\n",
       "      <td>49</td>\n",
       "      <td>25.30</td>\n",
       "      <td>97.20</td>\n",
       "      <td>52</td>\n",
       "    </tr>\n",
       "    <tr>\n",
       "      <th>1</th>\n",
       "      <td>144</td>\n",
       "      <td>0.01</td>\n",
       "      <td>4.41</td>\n",
       "      <td>28.61</td>\n",
       "      <td>55</td>\n",
       "      <td>28.87</td>\n",
       "      <td>2.06</td>\n",
       "      <td>63</td>\n",
       "    </tr>\n",
       "    <tr>\n",
       "      <th>2</th>\n",
       "      <td>118</td>\n",
       "      <td>0.08</td>\n",
       "      <td>3.48</td>\n",
       "      <td>32.28</td>\n",
       "      <td>52</td>\n",
       "      <td>29.14</td>\n",
       "      <td>3.81</td>\n",
       "      <td>46</td>\n",
       "    </tr>\n",
       "    <tr>\n",
       "      <th>3</th>\n",
       "      <td>170</td>\n",
       "      <td>7.50</td>\n",
       "      <td>6.41</td>\n",
       "      <td>38.03</td>\n",
       "      <td>51</td>\n",
       "      <td>31.99</td>\n",
       "      <td>24.26</td>\n",
       "      <td>58</td>\n",
       "    </tr>\n",
       "    <tr>\n",
       "      <th>4</th>\n",
       "      <td>134</td>\n",
       "      <td>13.60</td>\n",
       "      <td>3.50</td>\n",
       "      <td>27.78</td>\n",
       "      <td>60</td>\n",
       "      <td>25.99</td>\n",
       "      <td>57.34</td>\n",
       "      <td>49</td>\n",
       "    </tr>\n",
       "  </tbody>\n",
       "</table>\n",
       "</div>"
      ],
      "text/plain": [
       "   sbp  tobacco   ldl  adiposity  typea  obesity  alcohol  age\n",
       "0  160    12.00  5.73      23.11     49    25.30    97.20   52\n",
       "1  144     0.01  4.41      28.61     55    28.87     2.06   63\n",
       "2  118     0.08  3.48      32.28     52    29.14     3.81   46\n",
       "3  170     7.50  6.41      38.03     51    31.99    24.26   58\n",
       "4  134    13.60  3.50      27.78     60    25.99    57.34   49"
      ]
     },
     "execution_count": 11,
     "metadata": {},
     "output_type": "execute_result"
    }
   ],
   "source": [
    "var_num.head()"
   ]
  },
  {
   "cell_type": "code",
   "execution_count": 12,
   "id": "eeae4a32",
   "metadata": {},
   "outputs": [
    {
     "data": {
      "text/html": [
       "<div>\n",
       "<style scoped>\n",
       "    .dataframe tbody tr th:only-of-type {\n",
       "        vertical-align: middle;\n",
       "    }\n",
       "\n",
       "    .dataframe tbody tr th {\n",
       "        vertical-align: top;\n",
       "    }\n",
       "\n",
       "    .dataframe thead th {\n",
       "        text-align: right;\n",
       "    }\n",
       "</style>\n",
       "<table border=\"1\" class=\"dataframe\">\n",
       "  <thead>\n",
       "    <tr style=\"text-align: right;\">\n",
       "      <th></th>\n",
       "      <th>famhist</th>\n",
       "      <th>chd</th>\n",
       "    </tr>\n",
       "  </thead>\n",
       "  <tbody>\n",
       "    <tr>\n",
       "      <th>0</th>\n",
       "      <td>Present</td>\n",
       "      <td>Si</td>\n",
       "    </tr>\n",
       "    <tr>\n",
       "      <th>1</th>\n",
       "      <td>Absent</td>\n",
       "      <td>Si</td>\n",
       "    </tr>\n",
       "    <tr>\n",
       "      <th>2</th>\n",
       "      <td>Present</td>\n",
       "      <td>No</td>\n",
       "    </tr>\n",
       "    <tr>\n",
       "      <th>3</th>\n",
       "      <td>Present</td>\n",
       "      <td>Si</td>\n",
       "    </tr>\n",
       "    <tr>\n",
       "      <th>4</th>\n",
       "      <td>Present</td>\n",
       "      <td>Si</td>\n",
       "    </tr>\n",
       "  </tbody>\n",
       "</table>\n",
       "</div>"
      ],
      "text/plain": [
       "   famhist chd\n",
       "0  Present  Si\n",
       "1   Absent  Si\n",
       "2  Present  No\n",
       "3  Present  Si\n",
       "4  Present  Si"
      ]
     },
     "execution_count": 12,
     "metadata": {},
     "output_type": "execute_result"
    }
   ],
   "source": [
    "var_cat.head()"
   ]
  },
  {
   "attachments": {},
   "cell_type": "markdown",
   "id": "8ba3923c",
   "metadata": {},
   "source": [
    "### 1) Análisis univariante no gráfico"
   ]
  },
  {
   "attachments": {},
   "cell_type": "markdown",
   "id": "12a67d0c",
   "metadata": {},
   "source": [
    "#### Categóricas"
   ]
  },
  {
   "cell_type": "code",
   "execution_count": 13,
   "id": "92b6c1ca",
   "metadata": {},
   "outputs": [
    {
     "data": {
      "text/html": [
       "<div>\n",
       "<style scoped>\n",
       "    .dataframe tbody tr th:only-of-type {\n",
       "        vertical-align: middle;\n",
       "    }\n",
       "\n",
       "    .dataframe tbody tr th {\n",
       "        vertical-align: top;\n",
       "    }\n",
       "\n",
       "    .dataframe thead th {\n",
       "        text-align: right;\n",
       "    }\n",
       "</style>\n",
       "<table border=\"1\" class=\"dataframe\">\n",
       "  <thead>\n",
       "    <tr style=\"text-align: right;\">\n",
       "      <th>famhist</th>\n",
       "      <th>Absent</th>\n",
       "      <th>Present</th>\n",
       "      <th>Total</th>\n",
       "    </tr>\n",
       "  </thead>\n",
       "  <tbody>\n",
       "    <tr>\n",
       "      <th>count</th>\n",
       "      <td>270.000000</td>\n",
       "      <td>192.000000</td>\n",
       "      <td>462.0</td>\n",
       "    </tr>\n",
       "    <tr>\n",
       "      <th>proportion</th>\n",
       "      <td>0.584416</td>\n",
       "      <td>0.415584</td>\n",
       "      <td>1.0</td>\n",
       "    </tr>\n",
       "    <tr>\n",
       "      <th>percent</th>\n",
       "      <td>58.441558</td>\n",
       "      <td>41.558442</td>\n",
       "      <td>100.0</td>\n",
       "    </tr>\n",
       "  </tbody>\n",
       "</table>\n",
       "</div>"
      ],
      "text/plain": [
       "famhist         Absent     Present  Total\n",
       "count       270.000000  192.000000  462.0\n",
       "proportion    0.584416    0.415584    1.0\n",
       "percent      58.441558   41.558442  100.0"
      ]
     },
     "execution_count": 13,
     "metadata": {},
     "output_type": "execute_result"
    }
   ],
   "source": [
    "# Tabla de conteo, proporción y procentaje\n",
    "\n",
    "## variable famhist\n",
    "\n",
    "count = var_cat['famhist'].value_counts()\n",
    "proportion = count/var_cat['famhist'].count()\n",
    "percent = proportion*100\n",
    "\n",
    "table = pd.DataFrame({'count':count, \n",
    "                      'proportion':proportion,\n",
    "                      'percent':percent}).transpose()\n",
    "\n",
    "table['Total'] = table.sum(axis=1)\n",
    "\n",
    "table"
   ]
  },
  {
   "cell_type": "code",
   "execution_count": 14,
   "id": "07f1bb74",
   "metadata": {},
   "outputs": [
    {
     "data": {
      "text/html": [
       "<div>\n",
       "<style scoped>\n",
       "    .dataframe tbody tr th:only-of-type {\n",
       "        vertical-align: middle;\n",
       "    }\n",
       "\n",
       "    .dataframe tbody tr th {\n",
       "        vertical-align: top;\n",
       "    }\n",
       "\n",
       "    .dataframe thead th {\n",
       "        text-align: right;\n",
       "    }\n",
       "</style>\n",
       "<table border=\"1\" class=\"dataframe\">\n",
       "  <thead>\n",
       "    <tr style=\"text-align: right;\">\n",
       "      <th>chd</th>\n",
       "      <th>No</th>\n",
       "      <th>Si</th>\n",
       "      <th>Total</th>\n",
       "    </tr>\n",
       "  </thead>\n",
       "  <tbody>\n",
       "    <tr>\n",
       "      <th>count</th>\n",
       "      <td>302.000000</td>\n",
       "      <td>160.000000</td>\n",
       "      <td>462.0</td>\n",
       "    </tr>\n",
       "    <tr>\n",
       "      <th>proportion</th>\n",
       "      <td>0.653680</td>\n",
       "      <td>0.346320</td>\n",
       "      <td>1.0</td>\n",
       "    </tr>\n",
       "    <tr>\n",
       "      <th>percent</th>\n",
       "      <td>65.367965</td>\n",
       "      <td>34.632035</td>\n",
       "      <td>100.0</td>\n",
       "    </tr>\n",
       "  </tbody>\n",
       "</table>\n",
       "</div>"
      ],
      "text/plain": [
       "chd                 No          Si  Total\n",
       "count       302.000000  160.000000  462.0\n",
       "proportion    0.653680    0.346320    1.0\n",
       "percent      65.367965   34.632035  100.0"
      ]
     },
     "execution_count": 14,
     "metadata": {},
     "output_type": "execute_result"
    }
   ],
   "source": [
    "# Realiza la tabla de conteo, proporción y procentaje para la variable categórica chd\n",
    "\n",
    "count = var_cat['chd'].value_counts()\n",
    "proportion = count/var_cat['chd'].count()\n",
    "percent = proportion*100\n",
    "\n",
    "table = pd.DataFrame({'count':count, \n",
    "                      'proportion':proportion,\n",
    "                      'percent':percent}).transpose()\n",
    "\n",
    "table['Total'] = table.sum(axis=1)\n",
    "\n",
    "table"
   ]
  },
  {
   "attachments": {},
   "cell_type": "markdown",
   "id": "69f4044f",
   "metadata": {},
   "source": [
    "#### Numéricas"
   ]
  },
  {
   "cell_type": "code",
   "execution_count": 15,
   "id": "f7a34130",
   "metadata": {},
   "outputs": [
    {
     "name": "stdout",
     "output_type": "stream",
     "text": [
      "3.635649350649351 2.0 0.0\n"
     ]
    }
   ],
   "source": [
    "# Calcula, para una variable numérica que elijas, la tendencia central (media, mediana y moda) \n",
    "# y la dispersión (varianza y desviación estándar)\n",
    "\n",
    "\n",
    "# list_var_num = ['sbp','tobacco','ldl','adiposity','typea','obesity','alcohol','age']\n",
    "# var_num = data[list_var_num]\n",
    "\n",
    "# calculate mean\n",
    "tobacco_mean = np.mean(var_num['tobacco'])\n",
    "\n",
    "# calculate median\n",
    "tobacco_median = np.median(var_num['tobacco'])\n",
    "\n",
    "# calculate mode\n",
    "tobacco_mode = statistics.mode(var_num['tobacco'])\n",
    "\n",
    "print(tobacco_mean, tobacco_median, tobacco_mode)"
   ]
  },
  {
   "attachments": {},
   "cell_type": "markdown",
   "id": "869fe23a",
   "metadata": {},
   "source": [
    "### 2) Análisis univariante gráfico"
   ]
  },
  {
   "attachments": {},
   "cell_type": "markdown",
   "id": "d9b8c483",
   "metadata": {},
   "source": [
    "#### Categóricas"
   ]
  },
  {
   "cell_type": "code",
   "execution_count": 16,
   "id": "81567392",
   "metadata": {},
   "outputs": [
    {
     "data": {
      "application/vnd.plotly.v1+json": {
       "config": {
        "plotlyServerURL": "https://plot.ly"
       },
       "data": [
        {
         "alignmentgroup": "True",
         "hovertemplate": "Respuestas=%{x}<br>count=%{y}<extra></extra>",
         "legendgroup": "",
         "marker": {
          "color": "#636efa",
          "pattern": {
           "shape": ""
          }
         },
         "name": "",
         "offsetgroup": "",
         "orientation": "v",
         "showlegend": false,
         "textposition": "auto",
         "type": "bar",
         "x": [
          "Si",
          "Si",
          "No",
          "Si",
          "Si",
          "No",
          "No",
          "Si",
          "No",
          "Si",
          "Si",
          "Si",
          "No",
          "No",
          "No",
          "No",
          "No",
          "Si",
          "Si",
          "Si",
          "Si",
          "No",
          "No",
          "No",
          "No",
          "Si",
          "No",
          "Si",
          "No",
          "Si",
          "Si",
          "Si",
          "Si",
          "Si",
          "No",
          "Si",
          "No",
          "No",
          "No",
          "Si",
          "Si",
          "No",
          "No",
          "Si",
          "No",
          "No",
          "Si",
          "Si",
          "No",
          "No",
          "No",
          "No",
          "Si",
          "Si",
          "No",
          "No",
          "No",
          "Si",
          "No",
          "No",
          "No",
          "No",
          "No",
          "No",
          "No",
          "No",
          "No",
          "No",
          "No",
          "Si",
          "No",
          "No",
          "No",
          "No",
          "No",
          "No",
          "No",
          "Si",
          "Si",
          "No",
          "Si",
          "Si",
          "Si",
          "Si",
          "No",
          "No",
          "Si",
          "No",
          "No",
          "No",
          "No",
          "Si",
          "No",
          "Si",
          "No",
          "No",
          "No",
          "No",
          "Si",
          "No",
          "No",
          "No",
          "No",
          "No",
          "No",
          "No",
          "Si",
          "Si",
          "No",
          "No",
          "No",
          "Si",
          "No",
          "Si",
          "Si",
          "No",
          "Si",
          "No",
          "Si",
          "No",
          "No",
          "No",
          "No",
          "Si",
          "No",
          "Si",
          "No",
          "No",
          "Si",
          "No",
          "No",
          "Si",
          "Si",
          "No",
          "No",
          "Si",
          "No",
          "No",
          "No",
          "No",
          "Si",
          "Si",
          "No",
          "No",
          "No",
          "No",
          "No",
          "Si",
          "Si",
          "Si",
          "No",
          "No",
          "No",
          "No",
          "Si",
          "Si",
          "No",
          "No",
          "No",
          "Si",
          "No",
          "Si",
          "No",
          "No",
          "No",
          "No",
          "Si",
          "Si",
          "No",
          "No",
          "No",
          "No",
          "No",
          "No",
          "No",
          "Si",
          "No",
          "No",
          "No",
          "No",
          "No",
          "No",
          "Si",
          "Si",
          "Si",
          "Si",
          "No",
          "No",
          "No",
          "Si",
          "Si",
          "Si",
          "Si",
          "No",
          "No",
          "No",
          "No",
          "No",
          "Si",
          "No",
          "No",
          "Si",
          "No",
          "No",
          "No",
          "No",
          "No",
          "No",
          "No",
          "No",
          "No",
          "Si",
          "No",
          "No",
          "No",
          "Si",
          "Si",
          "No",
          "No",
          "No",
          "No",
          "Si",
          "No",
          "Si",
          "No",
          "No",
          "Si",
          "Si",
          "Si",
          "Si",
          "Si",
          "No",
          "Si",
          "No",
          "No",
          "Si",
          "No",
          "No",
          "No",
          "No",
          "Si",
          "No",
          "No",
          "Si",
          "Si",
          "No",
          "Si",
          "No",
          "No",
          "Si",
          "No",
          "No",
          "Si",
          "No",
          "No",
          "Si",
          "Si",
          "No",
          "Si",
          "No",
          "Si",
          "No",
          "No",
          "No",
          "Si",
          "No",
          "No",
          "No",
          "No",
          "Si",
          "Si",
          "Si",
          "No",
          "No",
          "Si",
          "Si",
          "Si",
          "No",
          "No",
          "No",
          "Si",
          "No",
          "Si",
          "No",
          "Si",
          "No",
          "No",
          "No",
          "No",
          "Si",
          "No",
          "No",
          "No",
          "Si",
          "No",
          "Si",
          "No",
          "No",
          "Si",
          "No",
          "No",
          "Si",
          "No",
          "Si",
          "No",
          "No",
          "No",
          "Si",
          "No",
          "No",
          "Si",
          "No",
          "Si",
          "No",
          "No",
          "No",
          "No",
          "No",
          "Si",
          "No",
          "No",
          "No",
          "No",
          "Si",
          "No",
          "Si",
          "No",
          "No",
          "No",
          "No",
          "No",
          "No",
          "Si",
          "Si",
          "Si",
          "No",
          "Si",
          "No",
          "No",
          "No",
          "No",
          "Si",
          "Si",
          "No",
          "No",
          "Si",
          "Si",
          "No",
          "Si",
          "No",
          "No",
          "No",
          "Si",
          "Si",
          "No",
          "Si",
          "No",
          "No",
          "No",
          "No",
          "Si",
          "No",
          "No",
          "No",
          "Si",
          "No",
          "No",
          "No",
          "No",
          "No",
          "Si",
          "No",
          "No",
          "No",
          "No",
          "No",
          "No",
          "No",
          "No",
          "Si",
          "No",
          "No",
          "Si",
          "No",
          "No",
          "Si",
          "No",
          "Si",
          "No",
          "Si",
          "Si",
          "Si",
          "No",
          "No",
          "No",
          "No",
          "No",
          "Si",
          "Si",
          "No",
          "No",
          "No",
          "Si",
          "Si",
          "No",
          "No",
          "Si",
          "Si",
          "No",
          "No",
          "Si",
          "No",
          "Si",
          "Si",
          "No",
          "Si",
          "No",
          "No",
          "No",
          "No",
          "No",
          "No",
          "Si",
          "Si",
          "Si",
          "No",
          "No",
          "No",
          "No",
          "No",
          "No",
          "No",
          "No",
          "No",
          "No",
          "No",
          "No",
          "No",
          "No",
          "No",
          "No",
          "No",
          "No",
          "No",
          "No",
          "No",
          "Si",
          "No",
          "No",
          "Si",
          "No",
          "No",
          "No",
          "Si",
          "Si",
          "Si",
          "No",
          "No",
          "Si",
          "No",
          "No",
          "Si"
         ],
         "xaxis": "x",
         "y": [
          1,
          1,
          1,
          1,
          1,
          1,
          1,
          1,
          1,
          1,
          1,
          1,
          1,
          1,
          1,
          1,
          1,
          1,
          1,
          1,
          1,
          1,
          1,
          1,
          1,
          1,
          1,
          1,
          1,
          1,
          1,
          1,
          1,
          1,
          1,
          1,
          1,
          1,
          1,
          1,
          1,
          1,
          1,
          1,
          1,
          1,
          1,
          1,
          1,
          1,
          1,
          1,
          1,
          1,
          1,
          1,
          1,
          1,
          1,
          1,
          1,
          1,
          1,
          1,
          1,
          1,
          1,
          1,
          1,
          1,
          1,
          1,
          1,
          1,
          1,
          1,
          1,
          1,
          1,
          1,
          1,
          1,
          1,
          1,
          1,
          1,
          1,
          1,
          1,
          1,
          1,
          1,
          1,
          1,
          1,
          1,
          1,
          1,
          1,
          1,
          1,
          1,
          1,
          1,
          1,
          1,
          1,
          1,
          1,
          1,
          1,
          1,
          1,
          1,
          1,
          1,
          1,
          1,
          1,
          1,
          1,
          1,
          1,
          1,
          1,
          1,
          1,
          1,
          1,
          1,
          1,
          1,
          1,
          1,
          1,
          1,
          1,
          1,
          1,
          1,
          1,
          1,
          1,
          1,
          1,
          1,
          1,
          1,
          1,
          1,
          1,
          1,
          1,
          1,
          1,
          1,
          1,
          1,
          1,
          1,
          1,
          1,
          1,
          1,
          1,
          1,
          1,
          1,
          1,
          1,
          1,
          1,
          1,
          1,
          1,
          1,
          1,
          1,
          1,
          1,
          1,
          1,
          1,
          1,
          1,
          1,
          1,
          1,
          1,
          1,
          1,
          1,
          1,
          1,
          1,
          1,
          1,
          1,
          1,
          1,
          1,
          1,
          1,
          1,
          1,
          1,
          1,
          1,
          1,
          1,
          1,
          1,
          1,
          1,
          1,
          1,
          1,
          1,
          1,
          1,
          1,
          1,
          1,
          1,
          1,
          1,
          1,
          1,
          1,
          1,
          1,
          1,
          1,
          1,
          1,
          1,
          1,
          1,
          1,
          1,
          1,
          1,
          1,
          1,
          1,
          1,
          1,
          1,
          1,
          1,
          1,
          1,
          1,
          1,
          1,
          1,
          1,
          1,
          1,
          1,
          1,
          1,
          1,
          1,
          1,
          1,
          1,
          1,
          1,
          1,
          1,
          1,
          1,
          1,
          1,
          1,
          1,
          1,
          1,
          1,
          1,
          1,
          1,
          1,
          1,
          1,
          1,
          1,
          1,
          1,
          1,
          1,
          1,
          1,
          1,
          1,
          1,
          1,
          1,
          1,
          1,
          1,
          1,
          1,
          1,
          1,
          1,
          1,
          1,
          1,
          1,
          1,
          1,
          1,
          1,
          1,
          1,
          1,
          1,
          1,
          1,
          1,
          1,
          1,
          1,
          1,
          1,
          1,
          1,
          1,
          1,
          1,
          1,
          1,
          1,
          1,
          1,
          1,
          1,
          1,
          1,
          1,
          1,
          1,
          1,
          1,
          1,
          1,
          1,
          1,
          1,
          1,
          1,
          1,
          1,
          1,
          1,
          1,
          1,
          1,
          1,
          1,
          1,
          1,
          1,
          1,
          1,
          1,
          1,
          1,
          1,
          1,
          1,
          1,
          1,
          1,
          1,
          1,
          1,
          1,
          1,
          1,
          1,
          1,
          1,
          1,
          1,
          1,
          1,
          1,
          1,
          1,
          1,
          1,
          1,
          1,
          1,
          1,
          1,
          1,
          1,
          1,
          1,
          1,
          1,
          1,
          1,
          1,
          1,
          1,
          1,
          1,
          1,
          1,
          1,
          1,
          1,
          1,
          1,
          1,
          1,
          1,
          1,
          1,
          1,
          1,
          1,
          1,
          1,
          1,
          1,
          1,
          1,
          1,
          1,
          1,
          1,
          1,
          1,
          1,
          1,
          1,
          1,
          1,
          1,
          1,
          1,
          1,
          1,
          1,
          1,
          1,
          1,
          1,
          1,
          1,
          1,
          1,
          1,
          1,
          1,
          1
         ],
         "yaxis": "y"
        }
       ],
       "layout": {
        "barmode": "relative",
        "legend": {
         "tracegroupgap": 0
        },
        "margin": {
         "t": 60
        },
        "template": {
         "data": {
          "bar": [
           {
            "error_x": {
             "color": "#2a3f5f"
            },
            "error_y": {
             "color": "#2a3f5f"
            },
            "marker": {
             "line": {
              "color": "#E5ECF6",
              "width": 0.5
             },
             "pattern": {
              "fillmode": "overlay",
              "size": 10,
              "solidity": 0.2
             }
            },
            "type": "bar"
           }
          ],
          "barpolar": [
           {
            "marker": {
             "line": {
              "color": "#E5ECF6",
              "width": 0.5
             },
             "pattern": {
              "fillmode": "overlay",
              "size": 10,
              "solidity": 0.2
             }
            },
            "type": "barpolar"
           }
          ],
          "carpet": [
           {
            "aaxis": {
             "endlinecolor": "#2a3f5f",
             "gridcolor": "white",
             "linecolor": "white",
             "minorgridcolor": "white",
             "startlinecolor": "#2a3f5f"
            },
            "baxis": {
             "endlinecolor": "#2a3f5f",
             "gridcolor": "white",
             "linecolor": "white",
             "minorgridcolor": "white",
             "startlinecolor": "#2a3f5f"
            },
            "type": "carpet"
           }
          ],
          "choropleth": [
           {
            "colorbar": {
             "outlinewidth": 0,
             "ticks": ""
            },
            "type": "choropleth"
           }
          ],
          "contour": [
           {
            "colorbar": {
             "outlinewidth": 0,
             "ticks": ""
            },
            "colorscale": [
             [
              0,
              "#0d0887"
             ],
             [
              0.1111111111111111,
              "#46039f"
             ],
             [
              0.2222222222222222,
              "#7201a8"
             ],
             [
              0.3333333333333333,
              "#9c179e"
             ],
             [
              0.4444444444444444,
              "#bd3786"
             ],
             [
              0.5555555555555556,
              "#d8576b"
             ],
             [
              0.6666666666666666,
              "#ed7953"
             ],
             [
              0.7777777777777778,
              "#fb9f3a"
             ],
             [
              0.8888888888888888,
              "#fdca26"
             ],
             [
              1,
              "#f0f921"
             ]
            ],
            "type": "contour"
           }
          ],
          "contourcarpet": [
           {
            "colorbar": {
             "outlinewidth": 0,
             "ticks": ""
            },
            "type": "contourcarpet"
           }
          ],
          "heatmap": [
           {
            "colorbar": {
             "outlinewidth": 0,
             "ticks": ""
            },
            "colorscale": [
             [
              0,
              "#0d0887"
             ],
             [
              0.1111111111111111,
              "#46039f"
             ],
             [
              0.2222222222222222,
              "#7201a8"
             ],
             [
              0.3333333333333333,
              "#9c179e"
             ],
             [
              0.4444444444444444,
              "#bd3786"
             ],
             [
              0.5555555555555556,
              "#d8576b"
             ],
             [
              0.6666666666666666,
              "#ed7953"
             ],
             [
              0.7777777777777778,
              "#fb9f3a"
             ],
             [
              0.8888888888888888,
              "#fdca26"
             ],
             [
              1,
              "#f0f921"
             ]
            ],
            "type": "heatmap"
           }
          ],
          "heatmapgl": [
           {
            "colorbar": {
             "outlinewidth": 0,
             "ticks": ""
            },
            "colorscale": [
             [
              0,
              "#0d0887"
             ],
             [
              0.1111111111111111,
              "#46039f"
             ],
             [
              0.2222222222222222,
              "#7201a8"
             ],
             [
              0.3333333333333333,
              "#9c179e"
             ],
             [
              0.4444444444444444,
              "#bd3786"
             ],
             [
              0.5555555555555556,
              "#d8576b"
             ],
             [
              0.6666666666666666,
              "#ed7953"
             ],
             [
              0.7777777777777778,
              "#fb9f3a"
             ],
             [
              0.8888888888888888,
              "#fdca26"
             ],
             [
              1,
              "#f0f921"
             ]
            ],
            "type": "heatmapgl"
           }
          ],
          "histogram": [
           {
            "marker": {
             "pattern": {
              "fillmode": "overlay",
              "size": 10,
              "solidity": 0.2
             }
            },
            "type": "histogram"
           }
          ],
          "histogram2d": [
           {
            "colorbar": {
             "outlinewidth": 0,
             "ticks": ""
            },
            "colorscale": [
             [
              0,
              "#0d0887"
             ],
             [
              0.1111111111111111,
              "#46039f"
             ],
             [
              0.2222222222222222,
              "#7201a8"
             ],
             [
              0.3333333333333333,
              "#9c179e"
             ],
             [
              0.4444444444444444,
              "#bd3786"
             ],
             [
              0.5555555555555556,
              "#d8576b"
             ],
             [
              0.6666666666666666,
              "#ed7953"
             ],
             [
              0.7777777777777778,
              "#fb9f3a"
             ],
             [
              0.8888888888888888,
              "#fdca26"
             ],
             [
              1,
              "#f0f921"
             ]
            ],
            "type": "histogram2d"
           }
          ],
          "histogram2dcontour": [
           {
            "colorbar": {
             "outlinewidth": 0,
             "ticks": ""
            },
            "colorscale": [
             [
              0,
              "#0d0887"
             ],
             [
              0.1111111111111111,
              "#46039f"
             ],
             [
              0.2222222222222222,
              "#7201a8"
             ],
             [
              0.3333333333333333,
              "#9c179e"
             ],
             [
              0.4444444444444444,
              "#bd3786"
             ],
             [
              0.5555555555555556,
              "#d8576b"
             ],
             [
              0.6666666666666666,
              "#ed7953"
             ],
             [
              0.7777777777777778,
              "#fb9f3a"
             ],
             [
              0.8888888888888888,
              "#fdca26"
             ],
             [
              1,
              "#f0f921"
             ]
            ],
            "type": "histogram2dcontour"
           }
          ],
          "mesh3d": [
           {
            "colorbar": {
             "outlinewidth": 0,
             "ticks": ""
            },
            "type": "mesh3d"
           }
          ],
          "parcoords": [
           {
            "line": {
             "colorbar": {
              "outlinewidth": 0,
              "ticks": ""
             }
            },
            "type": "parcoords"
           }
          ],
          "pie": [
           {
            "automargin": true,
            "type": "pie"
           }
          ],
          "scatter": [
           {
            "fillpattern": {
             "fillmode": "overlay",
             "size": 10,
             "solidity": 0.2
            },
            "type": "scatter"
           }
          ],
          "scatter3d": [
           {
            "line": {
             "colorbar": {
              "outlinewidth": 0,
              "ticks": ""
             }
            },
            "marker": {
             "colorbar": {
              "outlinewidth": 0,
              "ticks": ""
             }
            },
            "type": "scatter3d"
           }
          ],
          "scattercarpet": [
           {
            "marker": {
             "colorbar": {
              "outlinewidth": 0,
              "ticks": ""
             }
            },
            "type": "scattercarpet"
           }
          ],
          "scattergeo": [
           {
            "marker": {
             "colorbar": {
              "outlinewidth": 0,
              "ticks": ""
             }
            },
            "type": "scattergeo"
           }
          ],
          "scattergl": [
           {
            "marker": {
             "colorbar": {
              "outlinewidth": 0,
              "ticks": ""
             }
            },
            "type": "scattergl"
           }
          ],
          "scattermapbox": [
           {
            "marker": {
             "colorbar": {
              "outlinewidth": 0,
              "ticks": ""
             }
            },
            "type": "scattermapbox"
           }
          ],
          "scatterpolar": [
           {
            "marker": {
             "colorbar": {
              "outlinewidth": 0,
              "ticks": ""
             }
            },
            "type": "scatterpolar"
           }
          ],
          "scatterpolargl": [
           {
            "marker": {
             "colorbar": {
              "outlinewidth": 0,
              "ticks": ""
             }
            },
            "type": "scatterpolargl"
           }
          ],
          "scatterternary": [
           {
            "marker": {
             "colorbar": {
              "outlinewidth": 0,
              "ticks": ""
             }
            },
            "type": "scatterternary"
           }
          ],
          "surface": [
           {
            "colorbar": {
             "outlinewidth": 0,
             "ticks": ""
            },
            "colorscale": [
             [
              0,
              "#0d0887"
             ],
             [
              0.1111111111111111,
              "#46039f"
             ],
             [
              0.2222222222222222,
              "#7201a8"
             ],
             [
              0.3333333333333333,
              "#9c179e"
             ],
             [
              0.4444444444444444,
              "#bd3786"
             ],
             [
              0.5555555555555556,
              "#d8576b"
             ],
             [
              0.6666666666666666,
              "#ed7953"
             ],
             [
              0.7777777777777778,
              "#fb9f3a"
             ],
             [
              0.8888888888888888,
              "#fdca26"
             ],
             [
              1,
              "#f0f921"
             ]
            ],
            "type": "surface"
           }
          ],
          "table": [
           {
            "cells": {
             "fill": {
              "color": "#EBF0F8"
             },
             "line": {
              "color": "white"
             }
            },
            "header": {
             "fill": {
              "color": "#C8D4E3"
             },
             "line": {
              "color": "white"
             }
            },
            "type": "table"
           }
          ]
         },
         "layout": {
          "annotationdefaults": {
           "arrowcolor": "#2a3f5f",
           "arrowhead": 0,
           "arrowwidth": 1
          },
          "autotypenumbers": "strict",
          "coloraxis": {
           "colorbar": {
            "outlinewidth": 0,
            "ticks": ""
           }
          },
          "colorscale": {
           "diverging": [
            [
             0,
             "#8e0152"
            ],
            [
             0.1,
             "#c51b7d"
            ],
            [
             0.2,
             "#de77ae"
            ],
            [
             0.3,
             "#f1b6da"
            ],
            [
             0.4,
             "#fde0ef"
            ],
            [
             0.5,
             "#f7f7f7"
            ],
            [
             0.6,
             "#e6f5d0"
            ],
            [
             0.7,
             "#b8e186"
            ],
            [
             0.8,
             "#7fbc41"
            ],
            [
             0.9,
             "#4d9221"
            ],
            [
             1,
             "#276419"
            ]
           ],
           "sequential": [
            [
             0,
             "#0d0887"
            ],
            [
             0.1111111111111111,
             "#46039f"
            ],
            [
             0.2222222222222222,
             "#7201a8"
            ],
            [
             0.3333333333333333,
             "#9c179e"
            ],
            [
             0.4444444444444444,
             "#bd3786"
            ],
            [
             0.5555555555555556,
             "#d8576b"
            ],
            [
             0.6666666666666666,
             "#ed7953"
            ],
            [
             0.7777777777777778,
             "#fb9f3a"
            ],
            [
             0.8888888888888888,
             "#fdca26"
            ],
            [
             1,
             "#f0f921"
            ]
           ],
           "sequentialminus": [
            [
             0,
             "#0d0887"
            ],
            [
             0.1111111111111111,
             "#46039f"
            ],
            [
             0.2222222222222222,
             "#7201a8"
            ],
            [
             0.3333333333333333,
             "#9c179e"
            ],
            [
             0.4444444444444444,
             "#bd3786"
            ],
            [
             0.5555555555555556,
             "#d8576b"
            ],
            [
             0.6666666666666666,
             "#ed7953"
            ],
            [
             0.7777777777777778,
             "#fb9f3a"
            ],
            [
             0.8888888888888888,
             "#fdca26"
            ],
            [
             1,
             "#f0f921"
            ]
           ]
          },
          "colorway": [
           "#636efa",
           "#EF553B",
           "#00cc96",
           "#ab63fa",
           "#FFA15A",
           "#19d3f3",
           "#FF6692",
           "#B6E880",
           "#FF97FF",
           "#FECB52"
          ],
          "font": {
           "color": "#2a3f5f"
          },
          "geo": {
           "bgcolor": "white",
           "lakecolor": "white",
           "landcolor": "#E5ECF6",
           "showlakes": true,
           "showland": true,
           "subunitcolor": "white"
          },
          "hoverlabel": {
           "align": "left"
          },
          "hovermode": "closest",
          "mapbox": {
           "style": "light"
          },
          "paper_bgcolor": "white",
          "plot_bgcolor": "#E5ECF6",
          "polar": {
           "angularaxis": {
            "gridcolor": "white",
            "linecolor": "white",
            "ticks": ""
           },
           "bgcolor": "#E5ECF6",
           "radialaxis": {
            "gridcolor": "white",
            "linecolor": "white",
            "ticks": ""
           }
          },
          "scene": {
           "xaxis": {
            "backgroundcolor": "#E5ECF6",
            "gridcolor": "white",
            "gridwidth": 2,
            "linecolor": "white",
            "showbackground": true,
            "ticks": "",
            "zerolinecolor": "white"
           },
           "yaxis": {
            "backgroundcolor": "#E5ECF6",
            "gridcolor": "white",
            "gridwidth": 2,
            "linecolor": "white",
            "showbackground": true,
            "ticks": "",
            "zerolinecolor": "white"
           },
           "zaxis": {
            "backgroundcolor": "#E5ECF6",
            "gridcolor": "white",
            "gridwidth": 2,
            "linecolor": "white",
            "showbackground": true,
            "ticks": "",
            "zerolinecolor": "white"
           }
          },
          "shapedefaults": {
           "line": {
            "color": "#2a3f5f"
           }
          },
          "ternary": {
           "aaxis": {
            "gridcolor": "white",
            "linecolor": "white",
            "ticks": ""
           },
           "baxis": {
            "gridcolor": "white",
            "linecolor": "white",
            "ticks": ""
           },
           "bgcolor": "#E5ECF6",
           "caxis": {
            "gridcolor": "white",
            "linecolor": "white",
            "ticks": ""
           }
          },
          "title": {
           "x": 0.05
          },
          "xaxis": {
           "automargin": true,
           "gridcolor": "white",
           "linecolor": "white",
           "ticks": "",
           "title": {
            "standoff": 15
           },
           "zerolinecolor": "white",
           "zerolinewidth": 2
          },
          "yaxis": {
           "automargin": true,
           "gridcolor": "white",
           "linecolor": "white",
           "ticks": "",
           "title": {
            "standoff": 15
           },
           "zerolinecolor": "white",
           "zerolinewidth": 2
          }
         }
        },
        "xaxis": {
         "anchor": "y",
         "domain": [
          0,
          1
         ],
         "title": {
          "text": "Respuestas"
         }
        },
        "yaxis": {
         "anchor": "x",
         "domain": [
          0,
          1
         ],
         "title": {
          "text": "count"
         }
        }
       }
      }
     },
     "metadata": {},
     "output_type": "display_data"
    }
   ],
   "source": [
    "# Crea un bar chart para una variable categórica que elijas\n",
    "\n",
    "fig = px.bar(var_cat['chd'], x='chd', labels={'chd': 'Respuestas'})\n",
    "\n",
    "fig.show()"
   ]
  },
  {
   "attachments": {},
   "cell_type": "markdown",
   "id": "3c8e4700",
   "metadata": {},
   "source": [
    "#### Numéricas"
   ]
  },
  {
   "cell_type": "code",
   "execution_count": 17,
   "id": "82d7e668",
   "metadata": {},
   "outputs": [
    {
     "data": {
      "application/vnd.plotly.v1+json": {
       "config": {
        "plotlyServerURL": "https://plot.ly"
       },
       "data": [
        {
         "alignmentgroup": "True",
         "bingroup": "x",
         "hovertemplate": "variable=tobacco<br>value=%{x}<br>count=%{y}<extra></extra>",
         "legendgroup": "tobacco",
         "marker": {
          "color": "#636efa",
          "pattern": {
           "shape": ""
          }
         },
         "name": "tobacco",
         "offsetgroup": "tobacco",
         "orientation": "v",
         "showlegend": true,
         "type": "histogram",
         "x": [
          12,
          0.01,
          0.08,
          7.5,
          13.6,
          6.2,
          4.05,
          4.08,
          0,
          0,
          6,
          14.1,
          0,
          0,
          9.65,
          1.53,
          7.5,
          10.5,
          2.6,
          14,
          1.61,
          7.9,
          0.3,
          0.6,
          18.2,
          4,
          6,
          9.1,
          4.09,
          0,
          2.52,
          1.02,
          6.6,
          8.75,
          5.5,
          4.26,
          3.9,
          4.64,
          0,
          11.2,
          0.28,
          0.04,
          0,
          2.61,
          0,
          4.65,
          7.4,
          1.91,
          0,
          3.8,
          0,
          2.5,
          0.9,
          8.08,
          3,
          5.99,
          0,
          5.1,
          0.03,
          0.8,
          0.28,
          1.15,
          10.1,
          0.45,
          0,
          7.36,
          4.82,
          0.41,
          4.46,
          0,
          0,
          1.72,
          5.6,
          0.09,
          0.4,
          0,
          0,
          0.6,
          4.5,
          0.4,
          3,
          8.14,
          4.8,
          12.2,
          0,
          0.56,
          10.5,
          0,
          0.9,
          0.72,
          1.03,
          3.7,
          0.46,
          4,
          1.7,
          3,
          2.16,
          0,
          3.2,
          12,
          8,
          0.07,
          0,
          0.42,
          1.5,
          3.6,
          1.5,
          7.6,
          1,
          0,
          0,
          9,
          2,
          0,
          31.2,
          0,
          4.5,
          0.7,
          3.5,
          0,
          2,
          1.4,
          0,
          4.5,
          7.8,
          8.6,
          4.04,
          3.96,
          8.8,
          12.18,
          13.5,
          2,
          1.5,
          7.44,
          6,
          4.18,
          2.7,
          0.5,
          0,
          0,
          14,
          2.78,
          2.8,
          4.5,
          1.2,
          0,
          1.05,
          3.46,
          1.5,
          15.5,
          6,
          6.6,
          0.28,
          0,
          3.04,
          8.8,
          0,
          9.45,
          0,
          6.75,
          1.8,
          27.4,
          0,
          0,
          0,
          7,
          12.16,
          1.52,
          0.54,
          5.3,
          2.55,
          0.75,
          0,
          0,
          0,
          4,
          2,
          0,
          0.04,
          15,
          0,
          0,
          4.2,
          4,
          8,
          4.4,
          20,
          2.15,
          4.8,
          0,
          0,
          0.7,
          0.4,
          0,
          0.05,
          0,
          0,
          2.92,
          3,
          0,
          0.16,
          3.15,
          2.75,
          0.73,
          3.2,
          3,
          0,
          4,
          5.8,
          8.8,
          0.05,
          1,
          3,
          0,
          0,
          7.77,
          0.52,
          0.81,
          0,
          7.4,
          0,
          0.5,
          2.4,
          7.5,
          7.28,
          5.04,
          4.46,
          10,
          2,
          0,
          2.35,
          13.2,
          1.75,
          0,
          0,
          18,
          5.5,
          5.76,
          0,
          0,
          5.2,
          6,
          4.18,
          0.76,
          4.6,
          0,
          0.4,
          4,
          0.6,
          6,
          6.17,
          0,
          3,
          7.5,
          9,
          13.02,
          5.08,
          4.48,
          12,
          1.8,
          0,
          0.61,
          1.04,
          5,
          9.9,
          0.12,
          0.12,
          12,
          0.1,
          6.8,
          0,
          2.2,
          1.36,
          4.2,
          0.8,
          8.8,
          2.02,
          4.25,
          0,
          0.12,
          1.08,
          3.6,
          0,
          3,
          15,
          0.21,
          0,
          0.02,
          0.05,
          0.6,
          0,
          0.48,
          0.18,
          2.6,
          0,
          0,
          0.1,
          0,
          12,
          4.1,
          0,
          2.27,
          0,
          0,
          1.2,
          0,
          14.4,
          8.4,
          2.4,
          0.05,
          3.5,
          9.6,
          1.5,
          0,
          5.15,
          1.4,
          0,
          1.2,
          11.4,
          3.72,
          0,
          4.36,
          6,
          8.6,
          1.7,
          0,
          0,
          0,
          5.6,
          0.4,
          0.31,
          3.1,
          6.4,
          19.45,
          1.35,
          6.94,
          7.28,
          6,
          0,
          4.2,
          1.62,
          4.28,
          6.3,
          0.87,
          1.2,
          0.52,
          4.5,
          5.4,
          0.08,
          5.6,
          10.5,
          3.99,
          1.2,
          11.79,
          1.7,
          0.9,
          0,
          6.6,
          4.05,
          1.68,
          12.3,
          0.4,
          4.2,
          0.6,
          3.02,
          0.72,
          0,
          0.12,
          3.4,
          0.5,
          8.2,
          6,
          1.6,
          5.16,
          0,
          0,
          3.6,
          1.25,
          0.96,
          4.5,
          1.44,
          8,
          1.68,
          2.6,
          19.6,
          4.2,
          0,
          4.5,
          0,
          5.6,
          0.54,
          2.4,
          0.95,
          3.57,
          12.5,
          0,
          7,
          11.2,
          8.75,
          0,
          6.1,
          0,
          5.5,
          5.04,
          1.15,
          2.38,
          25.01,
          19.2,
          4.2,
          0,
          20,
          0.8,
          8.2,
          0.92,
          6.4,
          1.1,
          16,
          0,
          2.8,
          0,
          5.5,
          0,
          13.8,
          6,
          2.2,
          0,
          1.32,
          1.16,
          7.2,
          0,
          0,
          0,
          0,
          0,
          0,
          0,
          0,
          0.06,
          1.22,
          4,
          0,
          0,
          6,
          0.57,
          3,
          2.8,
          0,
          0,
          1.8,
          4,
          1.81,
          0,
          5.53,
          1.6,
          0.64,
          2.24,
          0.4,
          0.4,
          4.2,
          3,
          5.4,
          0
         ],
         "xaxis": "x",
         "yaxis": "y"
        },
        {
         "alignmentgroup": "True",
         "hovertemplate": "variable=%{x}<br>value=%{y}<extra></extra>",
         "legendgroup": "",
         "marker": {
          "color": "#636efa"
         },
         "name": "",
         "notched": false,
         "offsetgroup": "",
         "orientation": "v",
         "showlegend": false,
         "type": "box",
         "x": [
          "tobacco",
          "tobacco",
          "tobacco",
          "tobacco",
          "tobacco",
          "tobacco",
          "tobacco",
          "tobacco",
          "tobacco",
          "tobacco",
          "tobacco",
          "tobacco",
          "tobacco",
          "tobacco",
          "tobacco",
          "tobacco",
          "tobacco",
          "tobacco",
          "tobacco",
          "tobacco",
          "tobacco",
          "tobacco",
          "tobacco",
          "tobacco",
          "tobacco",
          "tobacco",
          "tobacco",
          "tobacco",
          "tobacco",
          "tobacco",
          "tobacco",
          "tobacco",
          "tobacco",
          "tobacco",
          "tobacco",
          "tobacco",
          "tobacco",
          "tobacco",
          "tobacco",
          "tobacco",
          "tobacco",
          "tobacco",
          "tobacco",
          "tobacco",
          "tobacco",
          "tobacco",
          "tobacco",
          "tobacco",
          "tobacco",
          "tobacco",
          "tobacco",
          "tobacco",
          "tobacco",
          "tobacco",
          "tobacco",
          "tobacco",
          "tobacco",
          "tobacco",
          "tobacco",
          "tobacco",
          "tobacco",
          "tobacco",
          "tobacco",
          "tobacco",
          "tobacco",
          "tobacco",
          "tobacco",
          "tobacco",
          "tobacco",
          "tobacco",
          "tobacco",
          "tobacco",
          "tobacco",
          "tobacco",
          "tobacco",
          "tobacco",
          "tobacco",
          "tobacco",
          "tobacco",
          "tobacco",
          "tobacco",
          "tobacco",
          "tobacco",
          "tobacco",
          "tobacco",
          "tobacco",
          "tobacco",
          "tobacco",
          "tobacco",
          "tobacco",
          "tobacco",
          "tobacco",
          "tobacco",
          "tobacco",
          "tobacco",
          "tobacco",
          "tobacco",
          "tobacco",
          "tobacco",
          "tobacco",
          "tobacco",
          "tobacco",
          "tobacco",
          "tobacco",
          "tobacco",
          "tobacco",
          "tobacco",
          "tobacco",
          "tobacco",
          "tobacco",
          "tobacco",
          "tobacco",
          "tobacco",
          "tobacco",
          "tobacco",
          "tobacco",
          "tobacco",
          "tobacco",
          "tobacco",
          "tobacco",
          "tobacco",
          "tobacco",
          "tobacco",
          "tobacco",
          "tobacco",
          "tobacco",
          "tobacco",
          "tobacco",
          "tobacco",
          "tobacco",
          "tobacco",
          "tobacco",
          "tobacco",
          "tobacco",
          "tobacco",
          "tobacco",
          "tobacco",
          "tobacco",
          "tobacco",
          "tobacco",
          "tobacco",
          "tobacco",
          "tobacco",
          "tobacco",
          "tobacco",
          "tobacco",
          "tobacco",
          "tobacco",
          "tobacco",
          "tobacco",
          "tobacco",
          "tobacco",
          "tobacco",
          "tobacco",
          "tobacco",
          "tobacco",
          "tobacco",
          "tobacco",
          "tobacco",
          "tobacco",
          "tobacco",
          "tobacco",
          "tobacco",
          "tobacco",
          "tobacco",
          "tobacco",
          "tobacco",
          "tobacco",
          "tobacco",
          "tobacco",
          "tobacco",
          "tobacco",
          "tobacco",
          "tobacco",
          "tobacco",
          "tobacco",
          "tobacco",
          "tobacco",
          "tobacco",
          "tobacco",
          "tobacco",
          "tobacco",
          "tobacco",
          "tobacco",
          "tobacco",
          "tobacco",
          "tobacco",
          "tobacco",
          "tobacco",
          "tobacco",
          "tobacco",
          "tobacco",
          "tobacco",
          "tobacco",
          "tobacco",
          "tobacco",
          "tobacco",
          "tobacco",
          "tobacco",
          "tobacco",
          "tobacco",
          "tobacco",
          "tobacco",
          "tobacco",
          "tobacco",
          "tobacco",
          "tobacco",
          "tobacco",
          "tobacco",
          "tobacco",
          "tobacco",
          "tobacco",
          "tobacco",
          "tobacco",
          "tobacco",
          "tobacco",
          "tobacco",
          "tobacco",
          "tobacco",
          "tobacco",
          "tobacco",
          "tobacco",
          "tobacco",
          "tobacco",
          "tobacco",
          "tobacco",
          "tobacco",
          "tobacco",
          "tobacco",
          "tobacco",
          "tobacco",
          "tobacco",
          "tobacco",
          "tobacco",
          "tobacco",
          "tobacco",
          "tobacco",
          "tobacco",
          "tobacco",
          "tobacco",
          "tobacco",
          "tobacco",
          "tobacco",
          "tobacco",
          "tobacco",
          "tobacco",
          "tobacco",
          "tobacco",
          "tobacco",
          "tobacco",
          "tobacco",
          "tobacco",
          "tobacco",
          "tobacco",
          "tobacco",
          "tobacco",
          "tobacco",
          "tobacco",
          "tobacco",
          "tobacco",
          "tobacco",
          "tobacco",
          "tobacco",
          "tobacco",
          "tobacco",
          "tobacco",
          "tobacco",
          "tobacco",
          "tobacco",
          "tobacco",
          "tobacco",
          "tobacco",
          "tobacco",
          "tobacco",
          "tobacco",
          "tobacco",
          "tobacco",
          "tobacco",
          "tobacco",
          "tobacco",
          "tobacco",
          "tobacco",
          "tobacco",
          "tobacco",
          "tobacco",
          "tobacco",
          "tobacco",
          "tobacco",
          "tobacco",
          "tobacco",
          "tobacco",
          "tobacco",
          "tobacco",
          "tobacco",
          "tobacco",
          "tobacco",
          "tobacco",
          "tobacco",
          "tobacco",
          "tobacco",
          "tobacco",
          "tobacco",
          "tobacco",
          "tobacco",
          "tobacco",
          "tobacco",
          "tobacco",
          "tobacco",
          "tobacco",
          "tobacco",
          "tobacco",
          "tobacco",
          "tobacco",
          "tobacco",
          "tobacco",
          "tobacco",
          "tobacco",
          "tobacco",
          "tobacco",
          "tobacco",
          "tobacco",
          "tobacco",
          "tobacco",
          "tobacco",
          "tobacco",
          "tobacco",
          "tobacco",
          "tobacco",
          "tobacco",
          "tobacco",
          "tobacco",
          "tobacco",
          "tobacco",
          "tobacco",
          "tobacco",
          "tobacco",
          "tobacco",
          "tobacco",
          "tobacco",
          "tobacco",
          "tobacco",
          "tobacco",
          "tobacco",
          "tobacco",
          "tobacco",
          "tobacco",
          "tobacco",
          "tobacco",
          "tobacco",
          "tobacco",
          "tobacco",
          "tobacco",
          "tobacco",
          "tobacco",
          "tobacco",
          "tobacco",
          "tobacco",
          "tobacco",
          "tobacco",
          "tobacco",
          "tobacco",
          "tobacco",
          "tobacco",
          "tobacco",
          "tobacco",
          "tobacco",
          "tobacco",
          "tobacco",
          "tobacco",
          "tobacco",
          "tobacco",
          "tobacco",
          "tobacco",
          "tobacco",
          "tobacco",
          "tobacco",
          "tobacco",
          "tobacco",
          "tobacco",
          "tobacco",
          "tobacco",
          "tobacco",
          "tobacco",
          "tobacco",
          "tobacco",
          "tobacco",
          "tobacco",
          "tobacco",
          "tobacco",
          "tobacco",
          "tobacco",
          "tobacco",
          "tobacco",
          "tobacco",
          "tobacco",
          "tobacco",
          "tobacco",
          "tobacco",
          "tobacco",
          "tobacco",
          "tobacco",
          "tobacco",
          "tobacco",
          "tobacco",
          "tobacco",
          "tobacco",
          "tobacco",
          "tobacco",
          "tobacco",
          "tobacco",
          "tobacco",
          "tobacco",
          "tobacco",
          "tobacco",
          "tobacco",
          "tobacco",
          "tobacco",
          "tobacco",
          "tobacco",
          "tobacco",
          "tobacco",
          "tobacco",
          "tobacco",
          "tobacco",
          "tobacco",
          "tobacco",
          "tobacco",
          "tobacco",
          "tobacco",
          "tobacco",
          "tobacco",
          "tobacco",
          "tobacco",
          "tobacco",
          "tobacco",
          "tobacco",
          "tobacco",
          "tobacco",
          "tobacco",
          "tobacco",
          "tobacco",
          "tobacco",
          "tobacco",
          "tobacco",
          "tobacco",
          "tobacco",
          "tobacco",
          "tobacco",
          "tobacco",
          "tobacco",
          "tobacco",
          "tobacco",
          "tobacco",
          "tobacco",
          "tobacco",
          "tobacco",
          "tobacco",
          "tobacco",
          "tobacco",
          "tobacco",
          "tobacco",
          "tobacco"
         ],
         "x0": " ",
         "xaxis": "x2",
         "y": [
          12,
          0.01,
          0.08,
          7.5,
          13.6,
          6.2,
          4.05,
          4.08,
          0,
          0,
          6,
          14.1,
          0,
          0,
          9.65,
          1.53,
          7.5,
          10.5,
          2.6,
          14,
          1.61,
          7.9,
          0.3,
          0.6,
          18.2,
          4,
          6,
          9.1,
          4.09,
          0,
          2.52,
          1.02,
          6.6,
          8.75,
          5.5,
          4.26,
          3.9,
          4.64,
          0,
          11.2,
          0.28,
          0.04,
          0,
          2.61,
          0,
          4.65,
          7.4,
          1.91,
          0,
          3.8,
          0,
          2.5,
          0.9,
          8.08,
          3,
          5.99,
          0,
          5.1,
          0.03,
          0.8,
          0.28,
          1.15,
          10.1,
          0.45,
          0,
          7.36,
          4.82,
          0.41,
          4.46,
          0,
          0,
          1.72,
          5.6,
          0.09,
          0.4,
          0,
          0,
          0.6,
          4.5,
          0.4,
          3,
          8.14,
          4.8,
          12.2,
          0,
          0.56,
          10.5,
          0,
          0.9,
          0.72,
          1.03,
          3.7,
          0.46,
          4,
          1.7,
          3,
          2.16,
          0,
          3.2,
          12,
          8,
          0.07,
          0,
          0.42,
          1.5,
          3.6,
          1.5,
          7.6,
          1,
          0,
          0,
          9,
          2,
          0,
          31.2,
          0,
          4.5,
          0.7,
          3.5,
          0,
          2,
          1.4,
          0,
          4.5,
          7.8,
          8.6,
          4.04,
          3.96,
          8.8,
          12.18,
          13.5,
          2,
          1.5,
          7.44,
          6,
          4.18,
          2.7,
          0.5,
          0,
          0,
          14,
          2.78,
          2.8,
          4.5,
          1.2,
          0,
          1.05,
          3.46,
          1.5,
          15.5,
          6,
          6.6,
          0.28,
          0,
          3.04,
          8.8,
          0,
          9.45,
          0,
          6.75,
          1.8,
          27.4,
          0,
          0,
          0,
          7,
          12.16,
          1.52,
          0.54,
          5.3,
          2.55,
          0.75,
          0,
          0,
          0,
          4,
          2,
          0,
          0.04,
          15,
          0,
          0,
          4.2,
          4,
          8,
          4.4,
          20,
          2.15,
          4.8,
          0,
          0,
          0.7,
          0.4,
          0,
          0.05,
          0,
          0,
          2.92,
          3,
          0,
          0.16,
          3.15,
          2.75,
          0.73,
          3.2,
          3,
          0,
          4,
          5.8,
          8.8,
          0.05,
          1,
          3,
          0,
          0,
          7.77,
          0.52,
          0.81,
          0,
          7.4,
          0,
          0.5,
          2.4,
          7.5,
          7.28,
          5.04,
          4.46,
          10,
          2,
          0,
          2.35,
          13.2,
          1.75,
          0,
          0,
          18,
          5.5,
          5.76,
          0,
          0,
          5.2,
          6,
          4.18,
          0.76,
          4.6,
          0,
          0.4,
          4,
          0.6,
          6,
          6.17,
          0,
          3,
          7.5,
          9,
          13.02,
          5.08,
          4.48,
          12,
          1.8,
          0,
          0.61,
          1.04,
          5,
          9.9,
          0.12,
          0.12,
          12,
          0.1,
          6.8,
          0,
          2.2,
          1.36,
          4.2,
          0.8,
          8.8,
          2.02,
          4.25,
          0,
          0.12,
          1.08,
          3.6,
          0,
          3,
          15,
          0.21,
          0,
          0.02,
          0.05,
          0.6,
          0,
          0.48,
          0.18,
          2.6,
          0,
          0,
          0.1,
          0,
          12,
          4.1,
          0,
          2.27,
          0,
          0,
          1.2,
          0,
          14.4,
          8.4,
          2.4,
          0.05,
          3.5,
          9.6,
          1.5,
          0,
          5.15,
          1.4,
          0,
          1.2,
          11.4,
          3.72,
          0,
          4.36,
          6,
          8.6,
          1.7,
          0,
          0,
          0,
          5.6,
          0.4,
          0.31,
          3.1,
          6.4,
          19.45,
          1.35,
          6.94,
          7.28,
          6,
          0,
          4.2,
          1.62,
          4.28,
          6.3,
          0.87,
          1.2,
          0.52,
          4.5,
          5.4,
          0.08,
          5.6,
          10.5,
          3.99,
          1.2,
          11.79,
          1.7,
          0.9,
          0,
          6.6,
          4.05,
          1.68,
          12.3,
          0.4,
          4.2,
          0.6,
          3.02,
          0.72,
          0,
          0.12,
          3.4,
          0.5,
          8.2,
          6,
          1.6,
          5.16,
          0,
          0,
          3.6,
          1.25,
          0.96,
          4.5,
          1.44,
          8,
          1.68,
          2.6,
          19.6,
          4.2,
          0,
          4.5,
          0,
          5.6,
          0.54,
          2.4,
          0.95,
          3.57,
          12.5,
          0,
          7,
          11.2,
          8.75,
          0,
          6.1,
          0,
          5.5,
          5.04,
          1.15,
          2.38,
          25.01,
          19.2,
          4.2,
          0,
          20,
          0.8,
          8.2,
          0.92,
          6.4,
          1.1,
          16,
          0,
          2.8,
          0,
          5.5,
          0,
          13.8,
          6,
          2.2,
          0,
          1.32,
          1.16,
          7.2,
          0,
          0,
          0,
          0,
          0,
          0,
          0,
          0,
          0.06,
          1.22,
          4,
          0,
          0,
          6,
          0.57,
          3,
          2.8,
          0,
          0,
          1.8,
          4,
          1.81,
          0,
          5.53,
          1.6,
          0.64,
          2.24,
          0.4,
          0.4,
          4.2,
          3,
          5.4,
          0
         ],
         "y0": " ",
         "yaxis": "y2"
        }
       ],
       "layout": {
        "annotations": [
         {
          "font": {
           "size": 16
          },
          "showarrow": false,
          "text": "Histograma",
          "x": 0.225,
          "xanchor": "center",
          "xref": "paper",
          "y": 1,
          "yanchor": "bottom",
          "yref": "paper"
         },
         {
          "font": {
           "size": 16
          },
          "showarrow": false,
          "text": "Diagrama de Cajas",
          "x": 0.775,
          "xanchor": "center",
          "xref": "paper",
          "y": 1,
          "yanchor": "bottom",
          "yref": "paper"
         }
        ],
        "template": {
         "data": {
          "bar": [
           {
            "error_x": {
             "color": "#2a3f5f"
            },
            "error_y": {
             "color": "#2a3f5f"
            },
            "marker": {
             "line": {
              "color": "#E5ECF6",
              "width": 0.5
             },
             "pattern": {
              "fillmode": "overlay",
              "size": 10,
              "solidity": 0.2
             }
            },
            "type": "bar"
           }
          ],
          "barpolar": [
           {
            "marker": {
             "line": {
              "color": "#E5ECF6",
              "width": 0.5
             },
             "pattern": {
              "fillmode": "overlay",
              "size": 10,
              "solidity": 0.2
             }
            },
            "type": "barpolar"
           }
          ],
          "carpet": [
           {
            "aaxis": {
             "endlinecolor": "#2a3f5f",
             "gridcolor": "white",
             "linecolor": "white",
             "minorgridcolor": "white",
             "startlinecolor": "#2a3f5f"
            },
            "baxis": {
             "endlinecolor": "#2a3f5f",
             "gridcolor": "white",
             "linecolor": "white",
             "minorgridcolor": "white",
             "startlinecolor": "#2a3f5f"
            },
            "type": "carpet"
           }
          ],
          "choropleth": [
           {
            "colorbar": {
             "outlinewidth": 0,
             "ticks": ""
            },
            "type": "choropleth"
           }
          ],
          "contour": [
           {
            "colorbar": {
             "outlinewidth": 0,
             "ticks": ""
            },
            "colorscale": [
             [
              0,
              "#0d0887"
             ],
             [
              0.1111111111111111,
              "#46039f"
             ],
             [
              0.2222222222222222,
              "#7201a8"
             ],
             [
              0.3333333333333333,
              "#9c179e"
             ],
             [
              0.4444444444444444,
              "#bd3786"
             ],
             [
              0.5555555555555556,
              "#d8576b"
             ],
             [
              0.6666666666666666,
              "#ed7953"
             ],
             [
              0.7777777777777778,
              "#fb9f3a"
             ],
             [
              0.8888888888888888,
              "#fdca26"
             ],
             [
              1,
              "#f0f921"
             ]
            ],
            "type": "contour"
           }
          ],
          "contourcarpet": [
           {
            "colorbar": {
             "outlinewidth": 0,
             "ticks": ""
            },
            "type": "contourcarpet"
           }
          ],
          "heatmap": [
           {
            "colorbar": {
             "outlinewidth": 0,
             "ticks": ""
            },
            "colorscale": [
             [
              0,
              "#0d0887"
             ],
             [
              0.1111111111111111,
              "#46039f"
             ],
             [
              0.2222222222222222,
              "#7201a8"
             ],
             [
              0.3333333333333333,
              "#9c179e"
             ],
             [
              0.4444444444444444,
              "#bd3786"
             ],
             [
              0.5555555555555556,
              "#d8576b"
             ],
             [
              0.6666666666666666,
              "#ed7953"
             ],
             [
              0.7777777777777778,
              "#fb9f3a"
             ],
             [
              0.8888888888888888,
              "#fdca26"
             ],
             [
              1,
              "#f0f921"
             ]
            ],
            "type": "heatmap"
           }
          ],
          "heatmapgl": [
           {
            "colorbar": {
             "outlinewidth": 0,
             "ticks": ""
            },
            "colorscale": [
             [
              0,
              "#0d0887"
             ],
             [
              0.1111111111111111,
              "#46039f"
             ],
             [
              0.2222222222222222,
              "#7201a8"
             ],
             [
              0.3333333333333333,
              "#9c179e"
             ],
             [
              0.4444444444444444,
              "#bd3786"
             ],
             [
              0.5555555555555556,
              "#d8576b"
             ],
             [
              0.6666666666666666,
              "#ed7953"
             ],
             [
              0.7777777777777778,
              "#fb9f3a"
             ],
             [
              0.8888888888888888,
              "#fdca26"
             ],
             [
              1,
              "#f0f921"
             ]
            ],
            "type": "heatmapgl"
           }
          ],
          "histogram": [
           {
            "marker": {
             "pattern": {
              "fillmode": "overlay",
              "size": 10,
              "solidity": 0.2
             }
            },
            "type": "histogram"
           }
          ],
          "histogram2d": [
           {
            "colorbar": {
             "outlinewidth": 0,
             "ticks": ""
            },
            "colorscale": [
             [
              0,
              "#0d0887"
             ],
             [
              0.1111111111111111,
              "#46039f"
             ],
             [
              0.2222222222222222,
              "#7201a8"
             ],
             [
              0.3333333333333333,
              "#9c179e"
             ],
             [
              0.4444444444444444,
              "#bd3786"
             ],
             [
              0.5555555555555556,
              "#d8576b"
             ],
             [
              0.6666666666666666,
              "#ed7953"
             ],
             [
              0.7777777777777778,
              "#fb9f3a"
             ],
             [
              0.8888888888888888,
              "#fdca26"
             ],
             [
              1,
              "#f0f921"
             ]
            ],
            "type": "histogram2d"
           }
          ],
          "histogram2dcontour": [
           {
            "colorbar": {
             "outlinewidth": 0,
             "ticks": ""
            },
            "colorscale": [
             [
              0,
              "#0d0887"
             ],
             [
              0.1111111111111111,
              "#46039f"
             ],
             [
              0.2222222222222222,
              "#7201a8"
             ],
             [
              0.3333333333333333,
              "#9c179e"
             ],
             [
              0.4444444444444444,
              "#bd3786"
             ],
             [
              0.5555555555555556,
              "#d8576b"
             ],
             [
              0.6666666666666666,
              "#ed7953"
             ],
             [
              0.7777777777777778,
              "#fb9f3a"
             ],
             [
              0.8888888888888888,
              "#fdca26"
             ],
             [
              1,
              "#f0f921"
             ]
            ],
            "type": "histogram2dcontour"
           }
          ],
          "mesh3d": [
           {
            "colorbar": {
             "outlinewidth": 0,
             "ticks": ""
            },
            "type": "mesh3d"
           }
          ],
          "parcoords": [
           {
            "line": {
             "colorbar": {
              "outlinewidth": 0,
              "ticks": ""
             }
            },
            "type": "parcoords"
           }
          ],
          "pie": [
           {
            "automargin": true,
            "type": "pie"
           }
          ],
          "scatter": [
           {
            "fillpattern": {
             "fillmode": "overlay",
             "size": 10,
             "solidity": 0.2
            },
            "type": "scatter"
           }
          ],
          "scatter3d": [
           {
            "line": {
             "colorbar": {
              "outlinewidth": 0,
              "ticks": ""
             }
            },
            "marker": {
             "colorbar": {
              "outlinewidth": 0,
              "ticks": ""
             }
            },
            "type": "scatter3d"
           }
          ],
          "scattercarpet": [
           {
            "marker": {
             "colorbar": {
              "outlinewidth": 0,
              "ticks": ""
             }
            },
            "type": "scattercarpet"
           }
          ],
          "scattergeo": [
           {
            "marker": {
             "colorbar": {
              "outlinewidth": 0,
              "ticks": ""
             }
            },
            "type": "scattergeo"
           }
          ],
          "scattergl": [
           {
            "marker": {
             "colorbar": {
              "outlinewidth": 0,
              "ticks": ""
             }
            },
            "type": "scattergl"
           }
          ],
          "scattermapbox": [
           {
            "marker": {
             "colorbar": {
              "outlinewidth": 0,
              "ticks": ""
             }
            },
            "type": "scattermapbox"
           }
          ],
          "scatterpolar": [
           {
            "marker": {
             "colorbar": {
              "outlinewidth": 0,
              "ticks": ""
             }
            },
            "type": "scatterpolar"
           }
          ],
          "scatterpolargl": [
           {
            "marker": {
             "colorbar": {
              "outlinewidth": 0,
              "ticks": ""
             }
            },
            "type": "scatterpolargl"
           }
          ],
          "scatterternary": [
           {
            "marker": {
             "colorbar": {
              "outlinewidth": 0,
              "ticks": ""
             }
            },
            "type": "scatterternary"
           }
          ],
          "surface": [
           {
            "colorbar": {
             "outlinewidth": 0,
             "ticks": ""
            },
            "colorscale": [
             [
              0,
              "#0d0887"
             ],
             [
              0.1111111111111111,
              "#46039f"
             ],
             [
              0.2222222222222222,
              "#7201a8"
             ],
             [
              0.3333333333333333,
              "#9c179e"
             ],
             [
              0.4444444444444444,
              "#bd3786"
             ],
             [
              0.5555555555555556,
              "#d8576b"
             ],
             [
              0.6666666666666666,
              "#ed7953"
             ],
             [
              0.7777777777777778,
              "#fb9f3a"
             ],
             [
              0.8888888888888888,
              "#fdca26"
             ],
             [
              1,
              "#f0f921"
             ]
            ],
            "type": "surface"
           }
          ],
          "table": [
           {
            "cells": {
             "fill": {
              "color": "#EBF0F8"
             },
             "line": {
              "color": "white"
             }
            },
            "header": {
             "fill": {
              "color": "#C8D4E3"
             },
             "line": {
              "color": "white"
             }
            },
            "type": "table"
           }
          ]
         },
         "layout": {
          "annotationdefaults": {
           "arrowcolor": "#2a3f5f",
           "arrowhead": 0,
           "arrowwidth": 1
          },
          "autotypenumbers": "strict",
          "coloraxis": {
           "colorbar": {
            "outlinewidth": 0,
            "ticks": ""
           }
          },
          "colorscale": {
           "diverging": [
            [
             0,
             "#8e0152"
            ],
            [
             0.1,
             "#c51b7d"
            ],
            [
             0.2,
             "#de77ae"
            ],
            [
             0.3,
             "#f1b6da"
            ],
            [
             0.4,
             "#fde0ef"
            ],
            [
             0.5,
             "#f7f7f7"
            ],
            [
             0.6,
             "#e6f5d0"
            ],
            [
             0.7,
             "#b8e186"
            ],
            [
             0.8,
             "#7fbc41"
            ],
            [
             0.9,
             "#4d9221"
            ],
            [
             1,
             "#276419"
            ]
           ],
           "sequential": [
            [
             0,
             "#0d0887"
            ],
            [
             0.1111111111111111,
             "#46039f"
            ],
            [
             0.2222222222222222,
             "#7201a8"
            ],
            [
             0.3333333333333333,
             "#9c179e"
            ],
            [
             0.4444444444444444,
             "#bd3786"
            ],
            [
             0.5555555555555556,
             "#d8576b"
            ],
            [
             0.6666666666666666,
             "#ed7953"
            ],
            [
             0.7777777777777778,
             "#fb9f3a"
            ],
            [
             0.8888888888888888,
             "#fdca26"
            ],
            [
             1,
             "#f0f921"
            ]
           ],
           "sequentialminus": [
            [
             0,
             "#0d0887"
            ],
            [
             0.1111111111111111,
             "#46039f"
            ],
            [
             0.2222222222222222,
             "#7201a8"
            ],
            [
             0.3333333333333333,
             "#9c179e"
            ],
            [
             0.4444444444444444,
             "#bd3786"
            ],
            [
             0.5555555555555556,
             "#d8576b"
            ],
            [
             0.6666666666666666,
             "#ed7953"
            ],
            [
             0.7777777777777778,
             "#fb9f3a"
            ],
            [
             0.8888888888888888,
             "#fdca26"
            ],
            [
             1,
             "#f0f921"
            ]
           ]
          },
          "colorway": [
           "#636efa",
           "#EF553B",
           "#00cc96",
           "#ab63fa",
           "#FFA15A",
           "#19d3f3",
           "#FF6692",
           "#B6E880",
           "#FF97FF",
           "#FECB52"
          ],
          "font": {
           "color": "#2a3f5f"
          },
          "geo": {
           "bgcolor": "white",
           "lakecolor": "white",
           "landcolor": "#E5ECF6",
           "showlakes": true,
           "showland": true,
           "subunitcolor": "white"
          },
          "hoverlabel": {
           "align": "left"
          },
          "hovermode": "closest",
          "mapbox": {
           "style": "light"
          },
          "paper_bgcolor": "white",
          "plot_bgcolor": "#E5ECF6",
          "polar": {
           "angularaxis": {
            "gridcolor": "white",
            "linecolor": "white",
            "ticks": ""
           },
           "bgcolor": "#E5ECF6",
           "radialaxis": {
            "gridcolor": "white",
            "linecolor": "white",
            "ticks": ""
           }
          },
          "scene": {
           "xaxis": {
            "backgroundcolor": "#E5ECF6",
            "gridcolor": "white",
            "gridwidth": 2,
            "linecolor": "white",
            "showbackground": true,
            "ticks": "",
            "zerolinecolor": "white"
           },
           "yaxis": {
            "backgroundcolor": "#E5ECF6",
            "gridcolor": "white",
            "gridwidth": 2,
            "linecolor": "white",
            "showbackground": true,
            "ticks": "",
            "zerolinecolor": "white"
           },
           "zaxis": {
            "backgroundcolor": "#E5ECF6",
            "gridcolor": "white",
            "gridwidth": 2,
            "linecolor": "white",
            "showbackground": true,
            "ticks": "",
            "zerolinecolor": "white"
           }
          },
          "shapedefaults": {
           "line": {
            "color": "#2a3f5f"
           }
          },
          "ternary": {
           "aaxis": {
            "gridcolor": "white",
            "linecolor": "white",
            "ticks": ""
           },
           "baxis": {
            "gridcolor": "white",
            "linecolor": "white",
            "ticks": ""
           },
           "bgcolor": "#E5ECF6",
           "caxis": {
            "gridcolor": "white",
            "linecolor": "white",
            "ticks": ""
           }
          },
          "title": {
           "x": 0.05
          },
          "xaxis": {
           "automargin": true,
           "gridcolor": "white",
           "linecolor": "white",
           "ticks": "",
           "title": {
            "standoff": 15
           },
           "zerolinecolor": "white",
           "zerolinewidth": 2
          },
          "yaxis": {
           "automargin": true,
           "gridcolor": "white",
           "linecolor": "white",
           "ticks": "",
           "title": {
            "standoff": 15
           },
           "zerolinecolor": "white",
           "zerolinewidth": 2
          }
         }
        },
        "xaxis": {
         "anchor": "y",
         "domain": [
          0,
          0.45
         ]
        },
        "xaxis2": {
         "anchor": "y2",
         "domain": [
          0.55,
          1
         ]
        },
        "yaxis": {
         "anchor": "x",
         "domain": [
          0,
          1
         ]
        },
        "yaxis2": {
         "anchor": "x2",
         "domain": [
          0,
          1
         ]
        }
       }
      }
     },
     "metadata": {},
     "output_type": "display_data"
    }
   ],
   "source": [
    "# Crea un histograma y un boxplot para una variable numérica que elijas\n",
    "\n",
    "fig_hist = px.histogram(var_num['tobacco'])\n",
    "fig_box = px.box(var_num['tobacco'])\n",
    "\n",
    "fig_subplots = make_subplots(rows=1, cols=2, subplot_titles=['Histograma', 'Diagrama de Cajas'])\n",
    "fig_subplots.add_trace(fig_hist['data'][0], row=1, col=1)\n",
    "fig_subplots.add_trace(fig_box['data'][0], row=1, col=2)\n",
    "\n",
    "# Mostrar el gráfico combinado\n",
    "fig_subplots.show()"
   ]
  },
  {
   "attachments": {},
   "cell_type": "markdown",
   "id": "5bf7d99f",
   "metadata": {},
   "source": [
    "### 3) Análisis multivariante no gráfico"
   ]
  },
  {
   "attachments": {},
   "cell_type": "markdown",
   "id": "18726d97",
   "metadata": {},
   "source": [
    "#### Categóricas"
   ]
  },
  {
   "cell_type": "code",
   "execution_count": 18,
   "id": "998db642",
   "metadata": {},
   "outputs": [
    {
     "data": {
      "text/html": [
       "<div>\n",
       "<style scoped>\n",
       "    .dataframe tbody tr th:only-of-type {\n",
       "        vertical-align: middle;\n",
       "    }\n",
       "\n",
       "    .dataframe tbody tr th {\n",
       "        vertical-align: top;\n",
       "    }\n",
       "\n",
       "    .dataframe thead th {\n",
       "        text-align: right;\n",
       "    }\n",
       "</style>\n",
       "<table border=\"1\" class=\"dataframe\">\n",
       "  <thead>\n",
       "    <tr style=\"text-align: right;\">\n",
       "      <th>chd</th>\n",
       "      <th>No</th>\n",
       "      <th>Si</th>\n",
       "      <th>Total</th>\n",
       "    </tr>\n",
       "    <tr>\n",
       "      <th>famhist</th>\n",
       "      <th></th>\n",
       "      <th></th>\n",
       "      <th></th>\n",
       "    </tr>\n",
       "  </thead>\n",
       "  <tbody>\n",
       "    <tr>\n",
       "      <th>Absent</th>\n",
       "      <td>206</td>\n",
       "      <td>64</td>\n",
       "      <td>270</td>\n",
       "    </tr>\n",
       "    <tr>\n",
       "      <th>Present</th>\n",
       "      <td>96</td>\n",
       "      <td>96</td>\n",
       "      <td>192</td>\n",
       "    </tr>\n",
       "    <tr>\n",
       "      <th>Total</th>\n",
       "      <td>302</td>\n",
       "      <td>160</td>\n",
       "      <td>462</td>\n",
       "    </tr>\n",
       "  </tbody>\n",
       "</table>\n",
       "</div>"
      ],
      "text/plain": [
       "chd       No   Si  Total\n",
       "famhist                 \n",
       "Absent   206   64    270\n",
       "Present   96   96    192\n",
       "Total    302  160    462"
      ]
     },
     "execution_count": 18,
     "metadata": {},
     "output_type": "execute_result"
    }
   ],
   "source": [
    "# Calcula una tabla cruzada para las variables categóricas del dataset\n",
    "\n",
    "tabla_cruzada = pd.crosstab(index=var_cat['famhist'], columns=var_cat['chd'], margins=True, margins_name='Total')\n",
    "\n",
    "tabla_cruzada"
   ]
  },
  {
   "attachments": {},
   "cell_type": "markdown",
   "id": "9c025a02",
   "metadata": {},
   "source": [
    "#### Numéricas"
   ]
  },
  {
   "cell_type": "code",
   "execution_count": 24,
   "id": "a4890727",
   "metadata": {},
   "outputs": [
    {
     "data": {
      "text/html": [
       "<div>\n",
       "<style scoped>\n",
       "    .dataframe tbody tr th:only-of-type {\n",
       "        vertical-align: middle;\n",
       "    }\n",
       "\n",
       "    .dataframe tbody tr th {\n",
       "        vertical-align: top;\n",
       "    }\n",
       "\n",
       "    .dataframe thead th {\n",
       "        text-align: right;\n",
       "    }\n",
       "</style>\n",
       "<table border=\"1\" class=\"dataframe\">\n",
       "  <thead>\n",
       "    <tr style=\"text-align: right;\">\n",
       "      <th></th>\n",
       "      <th>sbp</th>\n",
       "      <th>tobacco</th>\n",
       "      <th>ldl</th>\n",
       "      <th>adiposity</th>\n",
       "      <th>typea</th>\n",
       "      <th>obesity</th>\n",
       "      <th>alcohol</th>\n",
       "      <th>age</th>\n",
       "    </tr>\n",
       "  </thead>\n",
       "  <tbody>\n",
       "    <tr>\n",
       "      <th>sbp</th>\n",
       "      <td>420.099018</td>\n",
       "      <td>19.980904</td>\n",
       "      <td>6.719048</td>\n",
       "      <td>56.853088</td>\n",
       "      <td>-11.561146</td>\n",
       "      <td>20.560605</td>\n",
       "      <td>70.295979</td>\n",
       "      <td>116.409504</td>\n",
       "    </tr>\n",
       "    <tr>\n",
       "      <th>tobacco</th>\n",
       "      <td>19.980904</td>\n",
       "      <td>21.095870</td>\n",
       "      <td>1.511467</td>\n",
       "      <td>10.243648</td>\n",
       "      <td>-0.658701</td>\n",
       "      <td>2.410084</td>\n",
       "      <td>22.579878</td>\n",
       "      <td>30.216833</td>\n",
       "    </tr>\n",
       "    <tr>\n",
       "      <th>ldl</th>\n",
       "      <td>6.719048</td>\n",
       "      <td>1.511467</td>\n",
       "      <td>4.288665</td>\n",
       "      <td>7.096730</td>\n",
       "      <td>0.895541</td>\n",
       "      <td>2.884043</td>\n",
       "      <td>-1.693487</td>\n",
       "      <td>9.433118</td>\n",
       "    </tr>\n",
       "    <tr>\n",
       "      <th>adiposity</th>\n",
       "      <td>56.853088</td>\n",
       "      <td>10.243648</td>\n",
       "      <td>7.096730</td>\n",
       "      <td>60.539271</td>\n",
       "      <td>-3.295625</td>\n",
       "      <td>23.492566</td>\n",
       "      <td>19.110856</td>\n",
       "      <td>71.150916</td>\n",
       "    </tr>\n",
       "    <tr>\n",
       "      <th>typea</th>\n",
       "      <td>-11.561146</td>\n",
       "      <td>-0.658701</td>\n",
       "      <td>0.895541</td>\n",
       "      <td>-3.295625</td>\n",
       "      <td>96.383976</td>\n",
       "      <td>3.061481</td>\n",
       "      <td>9.493078</td>\n",
       "      <td>-14.716201</td>\n",
       "    </tr>\n",
       "    <tr>\n",
       "      <th>obesity</th>\n",
       "      <td>20.560605</td>\n",
       "      <td>2.410084</td>\n",
       "      <td>2.884043</td>\n",
       "      <td>23.492566</td>\n",
       "      <td>3.061481</td>\n",
       "      <td>17.755101</td>\n",
       "      <td>5.324835</td>\n",
       "      <td>17.961062</td>\n",
       "    </tr>\n",
       "    <tr>\n",
       "      <th>alcohol</th>\n",
       "      <td>70.295979</td>\n",
       "      <td>22.579878</td>\n",
       "      <td>-1.693487</td>\n",
       "      <td>19.110856</td>\n",
       "      <td>9.493078</td>\n",
       "      <td>5.324835</td>\n",
       "      <td>599.322235</td>\n",
       "      <td>36.166493</td>\n",
       "    </tr>\n",
       "    <tr>\n",
       "      <th>age</th>\n",
       "      <td>116.409504</td>\n",
       "      <td>30.216833</td>\n",
       "      <td>9.433118</td>\n",
       "      <td>71.150916</td>\n",
       "      <td>-14.716201</td>\n",
       "      <td>17.961062</td>\n",
       "      <td>36.166493</td>\n",
       "      <td>213.421608</td>\n",
       "    </tr>\n",
       "  </tbody>\n",
       "</table>\n",
       "</div>"
      ],
      "text/plain": [
       "                  sbp    tobacco       ldl  adiposity      typea    obesity   \n",
       "sbp        420.099018  19.980904  6.719048  56.853088 -11.561146  20.560605  \\\n",
       "tobacco     19.980904  21.095870  1.511467  10.243648  -0.658701   2.410084   \n",
       "ldl          6.719048   1.511467  4.288665   7.096730   0.895541   2.884043   \n",
       "adiposity   56.853088  10.243648  7.096730  60.539271  -3.295625  23.492566   \n",
       "typea      -11.561146  -0.658701  0.895541  -3.295625  96.383976   3.061481   \n",
       "obesity     20.560605   2.410084  2.884043  23.492566   3.061481  17.755101   \n",
       "alcohol     70.295979  22.579878 -1.693487  19.110856   9.493078   5.324835   \n",
       "age        116.409504  30.216833  9.433118  71.150916 -14.716201  17.961062   \n",
       "\n",
       "              alcohol         age  \n",
       "sbp         70.295979  116.409504  \n",
       "tobacco     22.579878   30.216833  \n",
       "ldl         -1.693487    9.433118  \n",
       "adiposity   19.110856   71.150916  \n",
       "typea        9.493078  -14.716201  \n",
       "obesity      5.324835   17.961062  \n",
       "alcohol    599.322235   36.166493  \n",
       "age         36.166493  213.421608  "
      ]
     },
     "execution_count": 24,
     "metadata": {},
     "output_type": "execute_result"
    }
   ],
   "source": [
    "# Calcula la tabla de covarianzas y correlaciones para las variables numéricas del dataset\n",
    "\n",
    "cov_matrix = var_num.cov()\n",
    "\n",
    "corr_matrix = var_num.corr()\n",
    "\n",
    "cov_matrix\n",
    "\n"
   ]
  },
  {
   "attachments": {},
   "cell_type": "markdown",
   "id": "e904d85a",
   "metadata": {},
   "source": [
    "### 4) Análisis multivariante gráfico"
   ]
  },
  {
   "cell_type": "code",
   "execution_count": 25,
   "id": "ea0e6973",
   "metadata": {},
   "outputs": [
    {
     "data": {
      "image/png": "[encoded data removed]",
      "text/plain": [
       "<Figure size 640x480 with 1 Axes>"
      ]
     },
     "metadata": {},
     "output_type": "display_data"
    }
   ],
   "source": [
    "# Crea un scatterplot de dos variables numéricas del dataset\n",
    "\n",
    "# list_var_num = ['sbp','tobacco','ldl','adiposity','typea','obesity','alcohol','age']\n",
    "\n",
    "variable1 = 'sbp'\n",
    "variable2 = 'tobacco'\n",
    "\n",
    "sns.scatterplot(data=var_num, x=variable1, y=variable2)\n",
    "plt.title(f'Scatterplot de {variable1} vs {variable2}')\n",
    "plt.show()"
   ]
  },
  {
   "cell_type": "code",
   "execution_count": 27,
   "id": "cd7804bd",
   "metadata": {},
   "outputs": [
    {
     "data": {
      "image/png": "[encoded data removed]",
      "text/plain": [
       "<Figure size 640x480 with 1 Axes>"
      ]
     },
     "metadata": {},
     "output_type": "display_data"
    }
   ],
   "source": [
    "# EXTRA: Crea un bubbleplot de dos o tres variables numéricas y una categórica del dataset\n",
    "\n",
    "x_variable = 'sbp'\n",
    "y_variable = 'tobacco'\n",
    "size_variable = 'ldl'\n",
    "hue_variable = 'chd' \n",
    "\n",
    "# Seaborn\n",
    "sns.scatterplot(\n",
    "    data=data,\n",
    "    x=x_variable,\n",
    "    y=y_variable,\n",
    "    size=size_variable,\n",
    "    hue=hue_variable,\n",
    "    sizes=(10, 200),\n",
    "    alpha=0.7\n",
    ")\n",
    "\n",
    "plt.title(f'Bubbleplot de {x_variable} vs {y_variable} (Tamaño: {size_variable}, Color: {hue_variable})')\n",
    "plt.show()\n"
   ]
  }
 ],
 "metadata": {
  "kernelspec": {
   "display_name": "Python 3 (ipykernel)",
   "language": "python",
   "name": "python3"
  },
  "language_info": {
   "codemirror_mode": {
    "name": "ipython",
    "version": 3
   },
   "file_extension": ".py",
   "mimetype": "text/x-python",
   "name": "python",
   "nbconvert_exporter": "python",
   "pygments_lexer": "ipython3",
   "version": "3.10.10"
  }
 },
 "nbformat": 4,
 "nbformat_minor": 5
}
