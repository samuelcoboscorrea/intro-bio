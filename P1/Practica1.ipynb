{
 "cells": [
  {
   "attachments": {},
   "cell_type": "markdown",
   "id": "19e8783d",
   "metadata": {},
   "source": [
    "# Práctica 1"
   ]
  },
  {
   "cell_type": "code",
   "execution_count": 3,
   "id": "53e78531",
   "metadata": {},
   "outputs": [],
   "source": [
    "# Librerías\n",
    "# Nota: puedes importar cualquier otra librería que necesites usar\n",
    "\n",
    "import numpy as np\n",
    "import pandas as pd\n",
    "import matplotlib.pyplot as plt\n",
    "import seaborn as sns"
   ]
  },
  {
   "cell_type": "code",
   "execution_count": 8,
   "id": "a2831a8b",
   "metadata": {},
   "outputs": [],
   "source": [
    "# Leer dataset\n",
    "\n",
    "data = pd.read_csv('/Users/universidad/Desktop/Universidad/CURSO-2023-2024/BIO/PRACTICAS/P1/datasets/sourth_africa_chd.csv')"
   ]
  },
  {
   "cell_type": "code",
   "execution_count": 9,
   "id": "aa56ab34",
   "metadata": {
    "scrolled": true
   },
   "outputs": [
    {
     "data": {
      "text/html": [
       "<div>\n",
       "<style scoped>\n",
       "    .dataframe tbody tr th:only-of-type {\n",
       "        vertical-align: middle;\n",
       "    }\n",
       "\n",
       "    .dataframe tbody tr th {\n",
       "        vertical-align: top;\n",
       "    }\n",
       "\n",
       "    .dataframe thead th {\n",
       "        text-align: right;\n",
       "    }\n",
       "</style>\n",
       "<table border=\"1\" class=\"dataframe\">\n",
       "  <thead>\n",
       "    <tr style=\"text-align: right;\">\n",
       "      <th></th>\n",
       "      <th>sbp</th>\n",
       "      <th>tobacco</th>\n",
       "      <th>ldl</th>\n",
       "      <th>adiposity</th>\n",
       "      <th>famhist</th>\n",
       "      <th>typea</th>\n",
       "      <th>obesity</th>\n",
       "      <th>alcohol</th>\n",
       "      <th>age</th>\n",
       "      <th>chd</th>\n",
       "    </tr>\n",
       "  </thead>\n",
       "  <tbody>\n",
       "    <tr>\n",
       "      <th>0</th>\n",
       "      <td>160</td>\n",
       "      <td>12.00</td>\n",
       "      <td>5.73</td>\n",
       "      <td>23.11</td>\n",
       "      <td>Present</td>\n",
       "      <td>49</td>\n",
       "      <td>25.30</td>\n",
       "      <td>97.20</td>\n",
       "      <td>52</td>\n",
       "      <td>Si</td>\n",
       "    </tr>\n",
       "    <tr>\n",
       "      <th>1</th>\n",
       "      <td>144</td>\n",
       "      <td>0.01</td>\n",
       "      <td>4.41</td>\n",
       "      <td>28.61</td>\n",
       "      <td>Absent</td>\n",
       "      <td>55</td>\n",
       "      <td>28.87</td>\n",
       "      <td>2.06</td>\n",
       "      <td>63</td>\n",
       "      <td>Si</td>\n",
       "    </tr>\n",
       "    <tr>\n",
       "      <th>2</th>\n",
       "      <td>118</td>\n",
       "      <td>0.08</td>\n",
       "      <td>3.48</td>\n",
       "      <td>32.28</td>\n",
       "      <td>Present</td>\n",
       "      <td>52</td>\n",
       "      <td>29.14</td>\n",
       "      <td>3.81</td>\n",
       "      <td>46</td>\n",
       "      <td>No</td>\n",
       "    </tr>\n",
       "    <tr>\n",
       "      <th>3</th>\n",
       "      <td>170</td>\n",
       "      <td>7.50</td>\n",
       "      <td>6.41</td>\n",
       "      <td>38.03</td>\n",
       "      <td>Present</td>\n",
       "      <td>51</td>\n",
       "      <td>31.99</td>\n",
       "      <td>24.26</td>\n",
       "      <td>58</td>\n",
       "      <td>Si</td>\n",
       "    </tr>\n",
       "    <tr>\n",
       "      <th>4</th>\n",
       "      <td>134</td>\n",
       "      <td>13.60</td>\n",
       "      <td>3.50</td>\n",
       "      <td>27.78</td>\n",
       "      <td>Present</td>\n",
       "      <td>60</td>\n",
       "      <td>25.99</td>\n",
       "      <td>57.34</td>\n",
       "      <td>49</td>\n",
       "      <td>Si</td>\n",
       "    </tr>\n",
       "  </tbody>\n",
       "</table>\n",
       "</div>"
      ],
      "text/plain": [
       "   sbp  tobacco   ldl  adiposity  famhist  typea  obesity  alcohol  age chd\n",
       "0  160    12.00  5.73      23.11  Present     49    25.30    97.20   52  Si\n",
       "1  144     0.01  4.41      28.61   Absent     55    28.87     2.06   63  Si\n",
       "2  118     0.08  3.48      32.28  Present     52    29.14     3.81   46  No\n",
       "3  170     7.50  6.41      38.03  Present     51    31.99    24.26   58  Si\n",
       "4  134    13.60  3.50      27.78  Present     60    25.99    57.34   49  Si"
      ]
     },
     "execution_count": 9,
     "metadata": {},
     "output_type": "execute_result"
    }
   ],
   "source": [
    "# Visualizar los primeros elementos del dataset\n",
    "\n",
    "data.head()"
   ]
  },
  {
   "cell_type": "code",
   "execution_count": 10,
   "id": "f0a4fe52",
   "metadata": {},
   "outputs": [
    {
     "data": {
      "text/plain": [
       "(462, 10)"
      ]
     },
     "execution_count": 10,
     "metadata": {},
     "output_type": "execute_result"
    }
   ],
   "source": [
    "# Forma del dataset\n",
    "\n",
    "data.shape"
   ]
  },
  {
   "cell_type": "code",
   "execution_count": 11,
   "id": "5ca4f5fa",
   "metadata": {},
   "outputs": [
    {
     "data": {
      "text/html": [
       "<div>\n",
       "<style scoped>\n",
       "    .dataframe tbody tr th:only-of-type {\n",
       "        vertical-align: middle;\n",
       "    }\n",
       "\n",
       "    .dataframe tbody tr th {\n",
       "        vertical-align: top;\n",
       "    }\n",
       "\n",
       "    .dataframe thead th {\n",
       "        text-align: right;\n",
       "    }\n",
       "</style>\n",
       "<table border=\"1\" class=\"dataframe\">\n",
       "  <thead>\n",
       "    <tr style=\"text-align: right;\">\n",
       "      <th></th>\n",
       "      <th>sbp</th>\n",
       "      <th>tobacco</th>\n",
       "      <th>ldl</th>\n",
       "      <th>adiposity</th>\n",
       "      <th>famhist</th>\n",
       "      <th>typea</th>\n",
       "      <th>obesity</th>\n",
       "      <th>alcohol</th>\n",
       "      <th>age</th>\n",
       "      <th>chd</th>\n",
       "    </tr>\n",
       "  </thead>\n",
       "  <tbody>\n",
       "    <tr>\n",
       "      <th>100</th>\n",
       "      <td>136</td>\n",
       "      <td>8.00</td>\n",
       "      <td>7.85</td>\n",
       "      <td>23.81</td>\n",
       "      <td>Present</td>\n",
       "      <td>51</td>\n",
       "      <td>22.69</td>\n",
       "      <td>2.78</td>\n",
       "      <td>50</td>\n",
       "      <td>No</td>\n",
       "    </tr>\n",
       "    <tr>\n",
       "      <th>101</th>\n",
       "      <td>166</td>\n",
       "      <td>0.07</td>\n",
       "      <td>4.03</td>\n",
       "      <td>29.29</td>\n",
       "      <td>Absent</td>\n",
       "      <td>53</td>\n",
       "      <td>28.37</td>\n",
       "      <td>0.00</td>\n",
       "      <td>27</td>\n",
       "      <td>No</td>\n",
       "    </tr>\n",
       "    <tr>\n",
       "      <th>102</th>\n",
       "      <td>118</td>\n",
       "      <td>0.00</td>\n",
       "      <td>4.34</td>\n",
       "      <td>30.12</td>\n",
       "      <td>Present</td>\n",
       "      <td>52</td>\n",
       "      <td>32.18</td>\n",
       "      <td>3.91</td>\n",
       "      <td>46</td>\n",
       "      <td>No</td>\n",
       "    </tr>\n",
       "    <tr>\n",
       "      <th>103</th>\n",
       "      <td>128</td>\n",
       "      <td>0.42</td>\n",
       "      <td>4.60</td>\n",
       "      <td>26.68</td>\n",
       "      <td>Absent</td>\n",
       "      <td>41</td>\n",
       "      <td>30.97</td>\n",
       "      <td>10.33</td>\n",
       "      <td>31</td>\n",
       "      <td>No</td>\n",
       "    </tr>\n",
       "    <tr>\n",
       "      <th>104</th>\n",
       "      <td>118</td>\n",
       "      <td>1.50</td>\n",
       "      <td>5.38</td>\n",
       "      <td>25.84</td>\n",
       "      <td>Absent</td>\n",
       "      <td>64</td>\n",
       "      <td>28.63</td>\n",
       "      <td>3.89</td>\n",
       "      <td>29</td>\n",
       "      <td>No</td>\n",
       "    </tr>\n",
       "    <tr>\n",
       "      <th>105</th>\n",
       "      <td>158</td>\n",
       "      <td>3.60</td>\n",
       "      <td>2.97</td>\n",
       "      <td>30.11</td>\n",
       "      <td>Absent</td>\n",
       "      <td>63</td>\n",
       "      <td>26.64</td>\n",
       "      <td>108.00</td>\n",
       "      <td>64</td>\n",
       "      <td>No</td>\n",
       "    </tr>\n",
       "  </tbody>\n",
       "</table>\n",
       "</div>"
      ],
      "text/plain": [
       "     sbp  tobacco   ldl  adiposity  famhist  typea  obesity  alcohol  age chd\n",
       "100  136     8.00  7.85      23.81  Present     51    22.69     2.78   50  No\n",
       "101  166     0.07  4.03      29.29   Absent     53    28.37     0.00   27  No\n",
       "102  118     0.00  4.34      30.12  Present     52    32.18     3.91   46  No\n",
       "103  128     0.42  4.60      26.68   Absent     41    30.97    10.33   31  No\n",
       "104  118     1.50  5.38      25.84   Absent     64    28.63     3.89   29  No\n",
       "105  158     3.60  2.97      30.11   Absent     63    26.64   108.00   64  No"
      ]
     },
     "execution_count": 11,
     "metadata": {},
     "output_type": "execute_result"
    }
   ],
   "source": [
    "# Visualizar un cojunto de elementos del dataset cualquiera\n",
    "\n",
    "data.iloc[100:106,:]"
   ]
  },
  {
   "cell_type": "code",
   "execution_count": 12,
   "id": "6bc78559",
   "metadata": {},
   "outputs": [],
   "source": [
    "# Selección de variables numéricas y categóricas\n",
    "\n",
    "list_var_num = ['sbp','tobacco','ldl','adiposity','typea','obesity','alcohol','age']\n",
    "list_var_cat = ['famhist','chd']\n",
    "\n",
    "var_num = data[list_var_num]\n",
    "var_cat = data[list_var_cat]"
   ]
  },
  {
   "cell_type": "code",
   "execution_count": 13,
   "id": "4a610a92",
   "metadata": {},
   "outputs": [
    {
     "data": {
      "text/html": [
       "<div>\n",
       "<style scoped>\n",
       "    .dataframe tbody tr th:only-of-type {\n",
       "        vertical-align: middle;\n",
       "    }\n",
       "\n",
       "    .dataframe tbody tr th {\n",
       "        vertical-align: top;\n",
       "    }\n",
       "\n",
       "    .dataframe thead th {\n",
       "        text-align: right;\n",
       "    }\n",
       "</style>\n",
       "<table border=\"1\" class=\"dataframe\">\n",
       "  <thead>\n",
       "    <tr style=\"text-align: right;\">\n",
       "      <th></th>\n",
       "      <th>sbp</th>\n",
       "      <th>tobacco</th>\n",
       "      <th>ldl</th>\n",
       "      <th>adiposity</th>\n",
       "      <th>typea</th>\n",
       "      <th>obesity</th>\n",
       "      <th>alcohol</th>\n",
       "      <th>age</th>\n",
       "    </tr>\n",
       "  </thead>\n",
       "  <tbody>\n",
       "    <tr>\n",
       "      <th>0</th>\n",
       "      <td>160</td>\n",
       "      <td>12.00</td>\n",
       "      <td>5.73</td>\n",
       "      <td>23.11</td>\n",
       "      <td>49</td>\n",
       "      <td>25.30</td>\n",
       "      <td>97.20</td>\n",
       "      <td>52</td>\n",
       "    </tr>\n",
       "    <tr>\n",
       "      <th>1</th>\n",
       "      <td>144</td>\n",
       "      <td>0.01</td>\n",
       "      <td>4.41</td>\n",
       "      <td>28.61</td>\n",
       "      <td>55</td>\n",
       "      <td>28.87</td>\n",
       "      <td>2.06</td>\n",
       "      <td>63</td>\n",
       "    </tr>\n",
       "    <tr>\n",
       "      <th>2</th>\n",
       "      <td>118</td>\n",
       "      <td>0.08</td>\n",
       "      <td>3.48</td>\n",
       "      <td>32.28</td>\n",
       "      <td>52</td>\n",
       "      <td>29.14</td>\n",
       "      <td>3.81</td>\n",
       "      <td>46</td>\n",
       "    </tr>\n",
       "    <tr>\n",
       "      <th>3</th>\n",
       "      <td>170</td>\n",
       "      <td>7.50</td>\n",
       "      <td>6.41</td>\n",
       "      <td>38.03</td>\n",
       "      <td>51</td>\n",
       "      <td>31.99</td>\n",
       "      <td>24.26</td>\n",
       "      <td>58</td>\n",
       "    </tr>\n",
       "    <tr>\n",
       "      <th>4</th>\n",
       "      <td>134</td>\n",
       "      <td>13.60</td>\n",
       "      <td>3.50</td>\n",
       "      <td>27.78</td>\n",
       "      <td>60</td>\n",
       "      <td>25.99</td>\n",
       "      <td>57.34</td>\n",
       "      <td>49</td>\n",
       "    </tr>\n",
       "  </tbody>\n",
       "</table>\n",
       "</div>"
      ],
      "text/plain": [
       "   sbp  tobacco   ldl  adiposity  typea  obesity  alcohol  age\n",
       "0  160    12.00  5.73      23.11     49    25.30    97.20   52\n",
       "1  144     0.01  4.41      28.61     55    28.87     2.06   63\n",
       "2  118     0.08  3.48      32.28     52    29.14     3.81   46\n",
       "3  170     7.50  6.41      38.03     51    31.99    24.26   58\n",
       "4  134    13.60  3.50      27.78     60    25.99    57.34   49"
      ]
     },
     "execution_count": 13,
     "metadata": {},
     "output_type": "execute_result"
    }
   ],
   "source": [
    "var_num.head()"
   ]
  },
  {
   "cell_type": "code",
   "execution_count": 14,
   "id": "eeae4a32",
   "metadata": {},
   "outputs": [
    {
     "data": {
      "text/html": [
       "<div>\n",
       "<style scoped>\n",
       "    .dataframe tbody tr th:only-of-type {\n",
       "        vertical-align: middle;\n",
       "    }\n",
       "\n",
       "    .dataframe tbody tr th {\n",
       "        vertical-align: top;\n",
       "    }\n",
       "\n",
       "    .dataframe thead th {\n",
       "        text-align: right;\n",
       "    }\n",
       "</style>\n",
       "<table border=\"1\" class=\"dataframe\">\n",
       "  <thead>\n",
       "    <tr style=\"text-align: right;\">\n",
       "      <th></th>\n",
       "      <th>famhist</th>\n",
       "      <th>chd</th>\n",
       "    </tr>\n",
       "  </thead>\n",
       "  <tbody>\n",
       "    <tr>\n",
       "      <th>0</th>\n",
       "      <td>Present</td>\n",
       "      <td>Si</td>\n",
       "    </tr>\n",
       "    <tr>\n",
       "      <th>1</th>\n",
       "      <td>Absent</td>\n",
       "      <td>Si</td>\n",
       "    </tr>\n",
       "    <tr>\n",
       "      <th>2</th>\n",
       "      <td>Present</td>\n",
       "      <td>No</td>\n",
       "    </tr>\n",
       "    <tr>\n",
       "      <th>3</th>\n",
       "      <td>Present</td>\n",
       "      <td>Si</td>\n",
       "    </tr>\n",
       "    <tr>\n",
       "      <th>4</th>\n",
       "      <td>Present</td>\n",
       "      <td>Si</td>\n",
       "    </tr>\n",
       "  </tbody>\n",
       "</table>\n",
       "</div>"
      ],
      "text/plain": [
       "   famhist chd\n",
       "0  Present  Si\n",
       "1   Absent  Si\n",
       "2  Present  No\n",
       "3  Present  Si\n",
       "4  Present  Si"
      ]
     },
     "execution_count": 14,
     "metadata": {},
     "output_type": "execute_result"
    }
   ],
   "source": [
    "var_cat.head()"
   ]
  },
  {
   "attachments": {},
   "cell_type": "markdown",
   "id": "8ba3923c",
   "metadata": {},
   "source": [
    "### 1) Análisis univariante no gráfico"
   ]
  },
  {
   "attachments": {},
   "cell_type": "markdown",
   "id": "12a67d0c",
   "metadata": {},
   "source": [
    "#### Categóricas"
   ]
  },
  {
   "cell_type": "code",
   "execution_count": 15,
   "id": "92b6c1ca",
   "metadata": {},
   "outputs": [
    {
     "data": {
      "text/html": [
       "<div>\n",
       "<style scoped>\n",
       "    .dataframe tbody tr th:only-of-type {\n",
       "        vertical-align: middle;\n",
       "    }\n",
       "\n",
       "    .dataframe tbody tr th {\n",
       "        vertical-align: top;\n",
       "    }\n",
       "\n",
       "    .dataframe thead th {\n",
       "        text-align: right;\n",
       "    }\n",
       "</style>\n",
       "<table border=\"1\" class=\"dataframe\">\n",
       "  <thead>\n",
       "    <tr style=\"text-align: right;\">\n",
       "      <th>famhist</th>\n",
       "      <th>Absent</th>\n",
       "      <th>Present</th>\n",
       "      <th>Total</th>\n",
       "    </tr>\n",
       "  </thead>\n",
       "  <tbody>\n",
       "    <tr>\n",
       "      <th>count</th>\n",
       "      <td>270.000000</td>\n",
       "      <td>192.000000</td>\n",
       "      <td>462.0</td>\n",
       "    </tr>\n",
       "    <tr>\n",
       "      <th>proportion</th>\n",
       "      <td>0.584416</td>\n",
       "      <td>0.415584</td>\n",
       "      <td>1.0</td>\n",
       "    </tr>\n",
       "    <tr>\n",
       "      <th>percent</th>\n",
       "      <td>58.441558</td>\n",
       "      <td>41.558442</td>\n",
       "      <td>100.0</td>\n",
       "    </tr>\n",
       "  </tbody>\n",
       "</table>\n",
       "</div>"
      ],
      "text/plain": [
       "famhist         Absent     Present  Total\n",
       "count       270.000000  192.000000  462.0\n",
       "proportion    0.584416    0.415584    1.0\n",
       "percent      58.441558   41.558442  100.0"
      ]
     },
     "execution_count": 15,
     "metadata": {},
     "output_type": "execute_result"
    }
   ],
   "source": [
    "# Tabla de conteo, proporción y procentaje\n",
    "\n",
    "## variable famhist\n",
    "\n",
    "count = var_cat['famhist'].value_counts()\n",
    "proportion = count/var_cat['famhist'].count()\n",
    "percent = proportion*100\n",
    "\n",
    "table = pd.DataFrame({'count':count, \n",
    "                      'proportion':proportion,\n",
    "                      'percent':percent}).transpose()\n",
    "\n",
    "table['Total'] = table.sum(axis=1)\n",
    "\n",
    "table"
   ]
  },
  {
   "cell_type": "code",
   "execution_count": 11,
   "id": "07f1bb74",
   "metadata": {},
   "outputs": [],
   "source": [
    "# Realiza la tabla de conteo, proporción y procentaje para la variable categórica chd\n"
   ]
  },
  {
   "attachments": {},
   "cell_type": "markdown",
   "id": "69f4044f",
   "metadata": {},
   "source": [
    "#### Numéricas"
   ]
  },
  {
   "cell_type": "code",
   "execution_count": 12,
   "id": "f7a34130",
   "metadata": {},
   "outputs": [],
   "source": [
    "# Calcula, para una variable numérica que elijas, la tendencia central (media, mediana y moda) \n",
    "# y la dispersión (varianza y desviación estándar)\n"
   ]
  },
  {
   "attachments": {},
   "cell_type": "markdown",
   "id": "869fe23a",
   "metadata": {},
   "source": [
    "### 2) Análisis univariante gráfico"
   ]
  },
  {
   "attachments": {},
   "cell_type": "markdown",
   "id": "d9b8c483",
   "metadata": {},
   "source": [
    "#### Categóricas"
   ]
  },
  {
   "cell_type": "code",
   "execution_count": 13,
   "id": "81567392",
   "metadata": {},
   "outputs": [],
   "source": [
    "# Crea un bar chart para una variable categórica que elijas\n"
   ]
  },
  {
   "attachments": {},
   "cell_type": "markdown",
   "id": "3c8e4700",
   "metadata": {},
   "source": [
    "#### Numéricas"
   ]
  },
  {
   "cell_type": "code",
   "execution_count": 14,
   "id": "82d7e668",
   "metadata": {},
   "outputs": [],
   "source": [
    "# Crea un histograma y un boxplot para una variable numérica que elijas\n"
   ]
  },
  {
   "attachments": {},
   "cell_type": "markdown",
   "id": "5bf7d99f",
   "metadata": {},
   "source": [
    "### 3) Análisis multivariante no gráfico"
   ]
  },
  {
   "attachments": {},
   "cell_type": "markdown",
   "id": "18726d97",
   "metadata": {},
   "source": [
    "#### Categóricas"
   ]
  },
  {
   "cell_type": "code",
   "execution_count": 59,
   "id": "998db642",
   "metadata": {},
   "outputs": [],
   "source": [
    "# Calcula una tabla cruzada para las variables categóricas del dataset\n"
   ]
  },
  {
   "attachments": {},
   "cell_type": "markdown",
   "id": "9c025a02",
   "metadata": {},
   "source": [
    "#### Numéricas"
   ]
  },
  {
   "cell_type": "code",
   "execution_count": 65,
   "id": "a4890727",
   "metadata": {},
   "outputs": [],
   "source": [
    "# Calcula la tabla de covarianzas y correlaciones para las variables numéricas del dataset\n"
   ]
  },
  {
   "attachments": {},
   "cell_type": "markdown",
   "id": "e904d85a",
   "metadata": {},
   "source": [
    "### 4) Análisis multivariante gráfico"
   ]
  },
  {
   "cell_type": "code",
   "execution_count": 69,
   "id": "ea0e6973",
   "metadata": {},
   "outputs": [],
   "source": [
    "# Crea un scatterplot de dos variables numéricas del dataset\n"
   ]
  },
  {
   "cell_type": "code",
   "execution_count": 68,
   "id": "cd7804bd",
   "metadata": {},
   "outputs": [],
   "source": [
    "# EXTRA: Crea un bubbleplot de dos o tres variables numéricas y una categórica del dataset\n"
   ]
  },
  {
   "cell_type": "code",
   "execution_count": null,
   "id": "4d7b602e",
   "metadata": {},
   "outputs": [],
   "source": []
  }
 ],
 "metadata": {
  "kernelspec": {
   "display_name": "Python 3 (ipykernel)",
   "language": "python",
   "name": "python3"
  },
  "language_info": {
   "codemirror_mode": {
    "name": "ipython",
    "version": 3
   },
   "file_extension": ".py",
   "mimetype": "text/x-python",
   "name": "python",
   "nbconvert_exporter": "python",
   "pygments_lexer": "ipython3",
   "version": "3.10.10"
  }
 },
 "nbformat": 4,
 "nbformat_minor": 5
}
