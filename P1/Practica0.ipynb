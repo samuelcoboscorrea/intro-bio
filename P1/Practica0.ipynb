{
 "cells": [
  {
   "cell_type": "markdown",
   "id": "fa7c64eb",
   "metadata": {},
   "source": [
    "# Práctica 0 - Introducción a Python"
   ]
  },
  {
   "cell_type": "markdown",
   "id": "6200e24d",
   "metadata": {},
   "source": [
    "**Comentarios en Python**"
   ]
  },
  {
   "cell_type": "code",
   "execution_count": 1,
   "id": "feda93b5",
   "metadata": {},
   "outputs": [],
   "source": [
    "# Esto es un comentario en Python: no se ejecuta como código Python, por lo que no influirá en el programa."
   ]
  },
  {
   "cell_type": "markdown",
   "id": "e45fef33",
   "metadata": {},
   "source": [
    "**Primera línea en Python**"
   ]
  },
  {
   "cell_type": "code",
   "execution_count": 2,
   "id": "5f71067d",
   "metadata": {},
   "outputs": [
    {
     "name": "stdout",
     "output_type": "stream",
     "text": [
      "Hola, ¿qué tal?\n"
     ]
    }
   ],
   "source": [
    "print(\"Hola, ¿qué tal?\")"
   ]
  },
  {
   "cell_type": "markdown",
   "id": "a3b2a947",
   "metadata": {},
   "source": [
    "La función print() de Python se utiliza para imprimir por pantalla."
   ]
  },
  {
   "cell_type": "markdown",
   "id": "176d0d5a",
   "metadata": {},
   "source": [
    "**Python como calculadora**"
   ]
  },
  {
   "cell_type": "code",
   "execution_count": 3,
   "id": "a92095fd",
   "metadata": {},
   "outputs": [
    {
     "name": "stdout",
     "output_type": "stream",
     "text": [
      "10\n",
      "0\n",
      "15\n",
      "5.0\n",
      "4\n",
      "16\n"
     ]
    }
   ],
   "source": [
    "# Suma y resta\n",
    "print(5 + 5)\n",
    "print(5 - 5)\n",
    "\n",
    "# Multiplicación, división, modulo, and exponente\n",
    "print(3 * 5)\n",
    "print(10 / 2)\n",
    "print(18 % 7)\n",
    "print(4 ** 2)"
   ]
  },
  {
   "cell_type": "markdown",
   "id": "68e87d4a",
   "metadata": {},
   "source": [
    "**Variables**"
   ]
  },
  {
   "cell_type": "code",
   "execution_count": 4,
   "id": "1e3e1f54",
   "metadata": {},
   "outputs": [
    {
     "name": "stdout",
     "output_type": "stream",
     "text": [
      "5\n",
      "Hola, ¿qué tal?\n"
     ]
    }
   ],
   "source": [
    "# Crear variables\n",
    "x = 5\n",
    "y = \"Hola, ¿qué tal?\"\n",
    "\n",
    "print(x)\n",
    "print(y)"
   ]
  },
  {
   "cell_type": "markdown",
   "id": "96557cee",
   "metadata": {},
   "source": [
    "En Python, las variables no necesitan ser declaradas con ningún tipo en particular, e incluso pueden cambiar de tipo después de haber sido establecidas. "
   ]
  },
  {
   "cell_type": "code",
   "execution_count": 5,
   "id": "8e6f323e",
   "metadata": {},
   "outputs": [
    {
     "name": "stdout",
     "output_type": "stream",
     "text": [
      "4\n",
      "Pedro\n"
     ]
    }
   ],
   "source": [
    "x = 4       # x es de tipo int\n",
    "print(x)\n",
    "\n",
    "x = \"Pedro\" # x es ahora de tipo str\n",
    "print(x)"
   ]
  },
  {
   "cell_type": "markdown",
   "id": "71570de7",
   "metadata": {},
   "source": [
    "Se puede averiguar el tipo de una variable usando la función type()."
   ]
  },
  {
   "cell_type": "code",
   "execution_count": 6,
   "id": "672bfeeb",
   "metadata": {},
   "outputs": [
    {
     "name": "stdout",
     "output_type": "stream",
     "text": [
      "<class 'int'>\n",
      "<class 'float'>\n",
      "<class 'bool'>\n",
      "<class 'str'>\n",
      "<class 'list'>\n",
      "<class 'dict'>\n",
      "<class 'complex'>\n",
      "<class 'NoneType'>\n"
     ]
    }
   ],
   "source": [
    "a = 1\n",
    "print(type(a))\n",
    "\n",
    "b = 1.0\n",
    "print(type(b))\n",
    "\n",
    "c = True\n",
    "print(type(c))\n",
    "\n",
    "d = \"Hola\" # También se puede con comillas simples 'Hola'\n",
    "print(type(d))\n",
    "\n",
    "e = [1, 3, 'Pedro']\n",
    "print(type(e))\n",
    "\n",
    "f = {a:1, b:2, c:\"Otro\"}\n",
    "print(type(f))\n",
    "\n",
    "g = 2 + 1j\n",
    "print(type(g))\n",
    "\n",
    "h = None\n",
    "print(type(h))"
   ]
  },
  {
   "cell_type": "markdown",
   "id": "17aa3370",
   "metadata": {},
   "source": [
    "Se puede convertir una variable de un tipo a otro (*casting* en inglés)."
   ]
  },
  {
   "cell_type": "code",
   "execution_count": 7,
   "id": "a65b1e3e",
   "metadata": {},
   "outputs": [
    {
     "name": "stdout",
     "output_type": "stream",
     "text": [
      "3\n",
      "<class 'str'>\n",
      "3\n",
      "<class 'int'>\n",
      "3.0\n",
      "<class 'float'>\n"
     ]
    }
   ],
   "source": [
    "a = \"3\"\n",
    "print(a)\n",
    "print(type(a))\n",
    "\n",
    "b = int(a)\n",
    "print(b)\n",
    "print(type(b))\n",
    "\n",
    "c = float(a)\n",
    "print(c)\n",
    "print(type(c))"
   ]
  },
  {
   "cell_type": "markdown",
   "id": "c2af6743",
   "metadata": {},
   "source": [
    "**Operadores**"
   ]
  },
  {
   "cell_type": "markdown",
   "id": "84e49f0b",
   "metadata": {},
   "source": [
    "Los operadores se utilizan para realizar operaciones con variables y valores."
   ]
  },
  {
   "cell_type": "code",
   "execution_count": 8,
   "id": "14972c19",
   "metadata": {},
   "outputs": [
    {
     "name": "stdout",
     "output_type": "stream",
     "text": [
      "15\n",
      "5\n",
      "50\n",
      "2.0\n",
      "100000\n",
      "0\n",
      "3\n"
     ]
    }
   ],
   "source": [
    "# Operadores aritméticos\n",
    "\n",
    "a = 10\n",
    "b = 5\n",
    "c = 3\n",
    "\n",
    "print(a+b) # Suma\n",
    "print(a-b) # Resta\n",
    "print(a*b) # Multiplicación\n",
    "print(a/b) # División\n",
    "print(a**b) # Exponente\n",
    "print(a%b) # Módulo\n",
    "print(a//c) # División con redondeo \"floor\""
   ]
  },
  {
   "cell_type": "code",
   "execution_count": 9,
   "id": "e04a093c",
   "metadata": {},
   "outputs": [
    {
     "name": "stdout",
     "output_type": "stream",
     "text": [
      "5\n",
      "8\n",
      "6\n",
      "24\n",
      "4.0\n"
     ]
    }
   ],
   "source": [
    "# Operadores de asignación\n",
    "\n",
    "a = 5\n",
    "print(a)\n",
    "\n",
    "a += 3\n",
    "print(a)\n",
    "\n",
    "a -= 2\n",
    "print(a)\n",
    "\n",
    "a *= 4\n",
    "print(a)\n",
    "\n",
    "a /= 6\n",
    "print(a)"
   ]
  },
  {
   "cell_type": "code",
   "execution_count": 10,
   "id": "b37d8cc2",
   "metadata": {},
   "outputs": [
    {
     "name": "stdout",
     "output_type": "stream",
     "text": [
      "True\n",
      "False\n",
      "False\n",
      "True\n",
      "False\n",
      "True\n"
     ]
    }
   ],
   "source": [
    "# Operadores de comparación\n",
    "\n",
    "a = 1\n",
    "print(a==1) # igual\n",
    "print(a!=1) # distinto\n",
    "print(a>1) # mayor\n",
    "print(a>=1) # mayor o igual\n",
    "print(a<1) # menor\n",
    "print(a<=1) # menor o igual"
   ]
  },
  {
   "cell_type": "code",
   "execution_count": 11,
   "id": "87a3d461",
   "metadata": {},
   "outputs": [
    {
     "name": "stdout",
     "output_type": "stream",
     "text": [
      "True\n",
      "True\n",
      "False\n"
     ]
    }
   ],
   "source": [
    "# Operadores lógicos\n",
    "a = 2\n",
    "b = 3\n",
    "\n",
    "print(a==2 and b==3) # devuelve True si ambas afirmaciones son verdaderas\n",
    "print(a==2 or b==1) # devuelve True si una de las afirmaciones es verdadera\n",
    "print(not(a==2)) # invierte el resultado: devuelve False si el resultado es True"
   ]
  },
  {
   "cell_type": "markdown",
   "id": "54500821",
   "metadata": {},
   "source": [
    "**Listas**"
   ]
  },
  {
   "cell_type": "markdown",
   "id": "c191a127",
   "metadata": {},
   "source": [
    "Las listas se utilizan para almacenar varios elementos en una sola variable."
   ]
  },
  {
   "cell_type": "code",
   "execution_count": 12,
   "id": "72471e2e",
   "metadata": {},
   "outputs": [
    {
     "name": "stdout",
     "output_type": "stream",
     "text": [
      "['apple', 'banana', 'cherry']\n",
      "3\n",
      "apple\n",
      "banana\n",
      "cherry\n",
      "cherry\n",
      "['banana', 'cherry']\n",
      "['apple', 'orange', 'cherry']\n",
      "['apple', 'orange', 'cherry', 'banana']\n",
      "['orange', 'cherry', 'banana']\n"
     ]
    }
   ],
   "source": [
    "thislist = [\"apple\", \"banana\", \"cherry\"] # una lista\n",
    "print(thislist)\n",
    "\n",
    "print(len(thislist)) # longitud de la lista\n",
    "\n",
    "print(thislist[0]) # seleccionar primer item de la lista\n",
    "print(thislist[1]) # seleccionar segundo item de la lista\n",
    "print(thislist[2]) # seleccionar tercer item de la lista\n",
    "print(thislist[-1]) # seleccionar último item de la lista\n",
    "print(thislist[1:3]) # seleccionar rango de items\n",
    "\n",
    "thislist[1] = \"orange\" # cambiar elemento de la lista \n",
    "print(thislist)\n",
    "\n",
    "thislist.append(\"banana\") # insertar elemento al final de la lista\n",
    "print(thislist)\n",
    "\n",
    "thislist.remove(\"apple\") # eliminar item de la lista\n",
    "print(thislist)"
   ]
  },
  {
   "cell_type": "markdown",
   "id": "d91d3481",
   "metadata": {},
   "source": [
    "**Diccionarios**"
   ]
  },
  {
   "cell_type": "markdown",
   "id": "1d1f7123",
   "metadata": {},
   "source": [
    "Los diccionarios se utilizan para almacenar valores de datos en pares clave:valor."
   ]
  },
  {
   "cell_type": "code",
   "execution_count": 13,
   "id": "00b0842a",
   "metadata": {},
   "outputs": [
    {
     "name": "stdout",
     "output_type": "stream",
     "text": [
      "{'marca': 'Ford', 'modelo': 'Mustang', 'año': 1964}\n",
      "Ford\n",
      "Mustang\n",
      "1964\n",
      "{'marca': 'seat', 'modelo': 'Mustang', 'año': 1964}\n",
      "{'marca': 'seat', 'modelo': 'Mustang', 'año': 1964, 'color': 'rojo'}\n",
      "{'marca': 'seat', 'año': 1964, 'color': 'rojo'}\n"
     ]
    }
   ],
   "source": [
    "thisdict = {\n",
    "  \"marca\": \"Ford\",\n",
    "  \"modelo\": \"Mustang\",\n",
    "  \"año\": 1964\n",
    "} # un diccionario\n",
    "print(thisdict)\n",
    "\n",
    "print(thisdict[\"marca\"]) # Seleccionar item por su clave\n",
    "print(thisdict[\"modelo\"]) # Seleccionar item por su clave\n",
    "print(thisdict[\"año\"]) # Seleccionar item por su clave\n",
    "\n",
    "thisdict[\"marca\"] = \"seat\" # cambiar elemento del diccionario \n",
    "print(thisdict)\n",
    "\n",
    "thisdict[\"color\"] = \"rojo\" # añadir item\n",
    "print(thisdict)\n",
    "\n",
    "thisdict.pop(\"modelo\") # eliminar item\n",
    "print(thisdict)"
   ]
  },
  {
   "cell_type": "markdown",
   "id": "d6af0d9f",
   "metadata": {},
   "source": [
    "**If ... Else**"
   ]
  },
  {
   "cell_type": "code",
   "execution_count": 14,
   "id": "a024b93d",
   "metadata": {},
   "outputs": [
    {
     "name": "stdout",
     "output_type": "stream",
     "text": [
      "b es mayor que a\n"
     ]
    }
   ],
   "source": [
    "a = 33\n",
    "b = 200\n",
    "if b > a:\n",
    "  print(\"b es mayor que a\")"
   ]
  },
  {
   "cell_type": "code",
   "execution_count": 15,
   "id": "4bc9029e",
   "metadata": {},
   "outputs": [
    {
     "name": "stdout",
     "output_type": "stream",
     "text": [
      "a y b son iguales\n"
     ]
    }
   ],
   "source": [
    "a = 33\n",
    "b = 33\n",
    "if b > a:\n",
    "  print(\"b es mayor que a\")\n",
    "elif a == b:\n",
    "  print(\"a y b son iguales\")"
   ]
  },
  {
   "cell_type": "code",
   "execution_count": 16,
   "id": "66311270",
   "metadata": {},
   "outputs": [
    {
     "name": "stdout",
     "output_type": "stream",
     "text": [
      "a es mayor que b\n"
     ]
    }
   ],
   "source": [
    "a = 200\n",
    "b = 33\n",
    "if b > a:\n",
    "  print(\"b es mayor que a\")\n",
    "elif a == b:\n",
    "  print(\"a y b son iguales\")\n",
    "else:\n",
    "  print(\"a es mayor que b\")"
   ]
  },
  {
   "cell_type": "code",
   "execution_count": 17,
   "id": "ea5a6750",
   "metadata": {},
   "outputs": [
    {
     "name": "stdout",
     "output_type": "stream",
     "text": [
      "Ambas condiciones son True\n"
     ]
    }
   ],
   "source": [
    "a = 200\n",
    "b = 33\n",
    "c = 500\n",
    "if a > b and c > a:\n",
    "  print(\"Ambas condiciones son True\")"
   ]
  },
  {
   "cell_type": "code",
   "execution_count": 18,
   "id": "0f89edd9",
   "metadata": {},
   "outputs": [
    {
     "name": "stdout",
     "output_type": "stream",
     "text": [
      "Al menos una condición es True\n"
     ]
    }
   ],
   "source": [
    "a = 200\n",
    "b = 33\n",
    "c = 500\n",
    "if a > b or a > c:\n",
    "  print(\"Al menos una condición es True\")"
   ]
  },
  {
   "cell_type": "code",
   "execution_count": 19,
   "id": "118babd4",
   "metadata": {},
   "outputs": [
    {
     "name": "stdout",
     "output_type": "stream",
     "text": [
      "a no es mayor que b\n"
     ]
    }
   ],
   "source": [
    "a = 33\n",
    "b = 200\n",
    "if not a > b:\n",
    "  print(\"a no es mayor que b\")"
   ]
  },
  {
   "cell_type": "code",
   "execution_count": 20,
   "id": "ac1b1930",
   "metadata": {},
   "outputs": [
    {
     "name": "stdout",
     "output_type": "stream",
     "text": [
      "Por encima de diez,\n",
      "y también por encima de 20.\n"
     ]
    }
   ],
   "source": [
    "x = 41\n",
    "\n",
    "if x > 10:\n",
    "  print(\"Por encima de diez,\")\n",
    "  if x > 20:\n",
    "    print(\"y también por encima de 20.\")\n",
    "  else:\n",
    "    print(\"pero no por encima de 20.\")"
   ]
  },
  {
   "cell_type": "markdown",
   "id": "cdb5e3b7",
   "metadata": {},
   "source": [
    "**Bucle for**"
   ]
  },
  {
   "cell_type": "markdown",
   "id": "061dab69",
   "metadata": {},
   "source": [
    "Un bucle for se utiliza para iterar sobre una secuencia (como una lista, un diccionario o string)."
   ]
  },
  {
   "cell_type": "code",
   "execution_count": 21,
   "id": "126a7536",
   "metadata": {},
   "outputs": [
    {
     "name": "stdout",
     "output_type": "stream",
     "text": [
      "apple\n",
      "banana\n",
      "cherry\n"
     ]
    }
   ],
   "source": [
    "fruits = [\"apple\", \"banana\", \"cherry\"]\n",
    "for x in fruits:\n",
    "  print(x)"
   ]
  },
  {
   "cell_type": "code",
   "execution_count": 22,
   "id": "7d8ca91f",
   "metadata": {},
   "outputs": [
    {
     "name": "stdout",
     "output_type": "stream",
     "text": [
      "b\n",
      "a\n",
      "n\n",
      "a\n",
      "n\n",
      "a\n"
     ]
    }
   ],
   "source": [
    "for x in \"banana\":\n",
    "  print(x)"
   ]
  },
  {
   "cell_type": "code",
   "execution_count": 23,
   "id": "eb11ab3e",
   "metadata": {},
   "outputs": [
    {
     "name": "stdout",
     "output_type": "stream",
     "text": [
      "0\n",
      "1\n",
      "2\n",
      "3\n",
      "4\n",
      "5\n"
     ]
    }
   ],
   "source": [
    "for x in range(6): # La función range() devuelve una secuencia de números, que empieza en 0 por defecto, se incrementa en 1 (por defecto), y termina en un número especificado.\n",
    "  print(x)"
   ]
  },
  {
   "cell_type": "code",
   "execution_count": 24,
   "id": "7b3f5a20",
   "metadata": {},
   "outputs": [
    {
     "name": "stdout",
     "output_type": "stream",
     "text": [
      "2\n",
      "3\n",
      "4\n",
      "5\n"
     ]
    }
   ],
   "source": [
    "for x in range(2, 6):\n",
    "  print(x)"
   ]
  },
  {
   "cell_type": "code",
   "execution_count": 25,
   "id": "590f9e2f",
   "metadata": {},
   "outputs": [
    {
     "name": "stdout",
     "output_type": "stream",
     "text": [
      "2\n",
      "5\n",
      "8\n",
      "11\n",
      "14\n",
      "17\n",
      "20\n",
      "23\n",
      "26\n",
      "29\n"
     ]
    }
   ],
   "source": [
    "for x in range(2, 30, 3):\n",
    "  print(x)"
   ]
  },
  {
   "cell_type": "markdown",
   "id": "88f2ffa2",
   "metadata": {},
   "source": [
    "**Funciones**"
   ]
  },
  {
   "cell_type": "markdown",
   "id": "16d15583",
   "metadata": {},
   "source": [
    "Una función es un bloque de código que sólo se ejecuta cuando se le llama."
   ]
  },
  {
   "cell_type": "code",
   "execution_count": 26,
   "id": "d1c440ea",
   "metadata": {},
   "outputs": [
    {
     "name": "stdout",
     "output_type": "stream",
     "text": [
      "Hola desde una función\n"
     ]
    }
   ],
   "source": [
    "def my_function():\n",
    "  print(\"Hola desde una función\")\n",
    "\n",
    "my_function()"
   ]
  },
  {
   "cell_type": "code",
   "execution_count": 27,
   "id": "944ceb3c",
   "metadata": {},
   "outputs": [
    {
     "name": "stdout",
     "output_type": "stream",
     "text": [
      "Emil García\n",
      "Tobias García\n",
      "Linus García\n"
     ]
    }
   ],
   "source": [
    "def my_function(nombre):\n",
    "  print(nombre + \" García\")\n",
    "\n",
    "my_function(\"Emil\")\n",
    "my_function(\"Tobias\")\n",
    "my_function(\"Linus\")"
   ]
  },
  {
   "cell_type": "code",
   "execution_count": 28,
   "id": "acb0f3c3",
   "metadata": {},
   "outputs": [
    {
     "name": "stdout",
     "output_type": "stream",
     "text": [
      "Blanca Romero\n"
     ]
    }
   ],
   "source": [
    "def my_function(nombre, apellido):\n",
    "  print(nombre + \" \" + apellido)\n",
    "\n",
    "my_function(\"Blanca\", \"Romero\")"
   ]
  },
  {
   "cell_type": "code",
   "execution_count": 29,
   "id": "e862ac5e",
   "metadata": {},
   "outputs": [
    {
     "name": "stdout",
     "output_type": "stream",
     "text": [
      "I am from Sweden\n",
      "I am from India\n",
      "I am from Norway\n",
      "I am from Brazil\n"
     ]
    }
   ],
   "source": [
    "def my_function(country = \"Norway\"): # argumento por defecto \n",
    "  print(\"I am from \" + country)\n",
    "\n",
    "my_function(\"Sweden\")\n",
    "my_function(\"India\")\n",
    "my_function()\n",
    "my_function(\"Brazil\")"
   ]
  },
  {
   "cell_type": "code",
   "execution_count": 30,
   "id": "832114c0",
   "metadata": {},
   "outputs": [
    {
     "name": "stdout",
     "output_type": "stream",
     "text": [
      "15\n",
      "25\n",
      "45\n"
     ]
    }
   ],
   "source": [
    "def my_function(x): # variable de retorno\n",
    "  return 5 * x\n",
    "\n",
    "print(my_function(3))\n",
    "print(my_function(5))\n",
    "print(my_function(9))"
   ]
  },
  {
   "cell_type": "markdown",
   "id": "4874c8dc",
   "metadata": {},
   "source": [
    "**Clases y objetos**"
   ]
  },
  {
   "cell_type": "code",
   "execution_count": 31,
   "id": "f2870369",
   "metadata": {},
   "outputs": [
    {
     "name": "stdout",
     "output_type": "stream",
     "text": [
      "5\n",
      "<class '__main__.MyClass'>\n"
     ]
    }
   ],
   "source": [
    "class MyClass: # clase MyClass\n",
    "  x = 5\n",
    "\n",
    "p1 = MyClass() # objeto tipo MyClass\n",
    "print(p1.x)\n",
    "print(type(p1))"
   ]
  },
  {
   "cell_type": "code",
   "execution_count": 32,
   "id": "fa63d1c3",
   "metadata": {},
   "outputs": [
    {
     "name": "stdout",
     "output_type": "stream",
     "text": [
      "John\n",
      "36\n"
     ]
    }
   ],
   "source": [
    "class Person:\n",
    "  def __init__(self, name, age):\n",
    "    self.name = name # Esto son atributos de la clase\n",
    "    self.age = age # Esto son atributos de la clase\n",
    "\n",
    "p1 = Person(\"John\", 36)\n",
    "\n",
    "print(p1.name)\n",
    "print(p1.age)"
   ]
  },
  {
   "cell_type": "code",
   "execution_count": 33,
   "id": "2171b0bb",
   "metadata": {},
   "outputs": [
    {
     "name": "stdout",
     "output_type": "stream",
     "text": [
      "Hello my name is John\n"
     ]
    }
   ],
   "source": [
    "class Person:\n",
    "  def __init__(self, name, age):\n",
    "    self.name = name\n",
    "    self.age = age\n",
    "\n",
    "  def myfunc(self): # Esto es un método de la clase\n",
    "    print(\"Hello my name is \" + self.name)\n",
    "\n",
    "p1 = Person(\"John\", 36)\n",
    "p1.myfunc()"
   ]
  },
  {
   "cell_type": "markdown",
   "id": "c5f1fc7f",
   "metadata": {},
   "source": [
    "Ampliar información en https://www.w3schools.com/python/python_intro.asp"
   ]
  },
  {
   "cell_type": "markdown",
   "id": "fb4cf6f5",
   "metadata": {},
   "source": [
    "## NumPy"
   ]
  },
  {
   "cell_type": "markdown",
   "id": "bc5a37da",
   "metadata": {},
   "source": [
    "NumPy es una librería de Python especializada en el cálculo numérico y el análisis de datos."
   ]
  },
  {
   "cell_type": "markdown",
   "id": "d3362a5f",
   "metadata": {},
   "source": [
    "Ver en https://www.w3schools.com/python/numpy/default.asp"
   ]
  },
  {
   "cell_type": "markdown",
   "id": "b8f720d6",
   "metadata": {},
   "source": [
    "## Pandas"
   ]
  },
  {
   "cell_type": "markdown",
   "id": "14cd5ed5",
   "metadata": {},
   "source": [
    "Pandas es una librería de Python para la manipulación y análisis de datos."
   ]
  },
  {
   "cell_type": "markdown",
   "id": "e708d1cb",
   "metadata": {},
   "source": [
    "Ver en https://www.w3schools.com/python/pandas/default.asp"
   ]
  }
 ],
 "metadata": {
  "kernelspec": {
   "display_name": "Python 3 (ipykernel)",
   "language": "python",
   "name": "python3"
  },
  "language_info": {
   "codemirror_mode": {
    "name": "ipython",
    "version": 3
   },
   "file_extension": ".py",
   "mimetype": "text/x-python",
   "name": "python",
   "nbconvert_exporter": "python",
   "pygments_lexer": "ipython3",
   "version": "3.10.10"
  }
 },
 "nbformat": 4,
 "nbformat_minor": 5
}
